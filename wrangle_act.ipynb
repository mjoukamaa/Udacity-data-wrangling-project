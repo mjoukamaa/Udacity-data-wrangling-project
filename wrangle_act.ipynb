{
 "cells": [
  {
   "cell_type": "markdown",
   "metadata": {},
   "source": [
    "# Project: wrangle and analyze data\n",
    "<br>\n",
    "* ### [Preliminary steps](#preliminary)\n",
    "* ### [Gathering data](#gather)\n",
    "* ### [Assessing data](#assess)\n",
    "* ### [Cleaning data](#clean)\n",
    "* ### [Storing, analyzing, and visualizing data](#store)\n",
    "\n",
    "<br>\n",
    "In this Jupyter notebook I will wrangle (gather, assess, and clean) data about tweets by WeRateDogs Twitter account as well as performing some basic analysis and visualization of it."
   ]
  },
  {
   "cell_type": "markdown",
   "metadata": {},
   "source": [
    "<a id = 'preliminary'></a>\n",
    "\n",
    "## Preliminary steps\n",
    "\n",
    "Before starting to wrangle it's necessary to import a couple of Python libraries: pandas and NumPy for data handling, Requests for loading data from www pages, json for handling tweet information, and tweepy for Twitter access. Also, the API object for accessing Twitter data needs to be set up."
   ]
  },
  {
   "cell_type": "code",
   "execution_count": 1,
   "metadata": {
    "collapsed": true
   },
   "outputs": [],
   "source": [
    "# importing the necessary libraries\n",
    "\n",
    "import pandas as pd\n",
    "import numpy as np\n",
    "\n",
    "import requests\n",
    "import json"
   ]
  },
  {
   "cell_type": "code",
   "execution_count": 2,
   "metadata": {
    "collapsed": true
   },
   "outputs": [],
   "source": [
    "# importing tweepy and setting up\n",
    "# the API object for Twitter access\n",
    "\n",
    "import tweepy\n",
    "\n",
    "\n",
    "consumer_key = 'my_consumer_key'\n",
    "consumer_secret = 'my_consumer_secret'\n",
    "access_token = 'my_access_token'\n",
    "access_secret = 'my_access_secret'\n",
    "\n",
    "auth = tweepy.OAuthHandler(consumer_key, consumer_secret)\n",
    "auth.set_access_token(access_token, access_secret)\n",
    "\n",
    "api = tweepy.API(auth, wait_on_rate_limit = True, wait_on_rate_limit_notify = True)"
   ]
  },
  {
   "cell_type": "markdown",
   "metadata": {},
   "source": [
    "<a id = 'gather'></a>\n",
    "\n",
    "## Gathering data\n",
    "\n",
    "There are three sources the data needs to be gathered from: two flat files on the cloud site used by Udacity and Tweet information gathered directly from Twitter using tweepy. Downloading and saving the flat files is pretty straightforward procedure, while gathering data from Twitter requires a bit more work."
   ]
  },
  {
   "cell_type": "code",
   "execution_count": 3,
   "metadata": {
    "collapsed": true
   },
   "outputs": [],
   "source": [
    "# downloading the two flat files\n",
    "\n",
    "r1 = requests.get('https://d17h27t6h515a5.cloudfront.net/topher/2017/August/599fd2ad_image-predictions/image-predictions.tsv')\n",
    "\n",
    "with open('image-predictions.tsv', mode = 'wb') as file:\n",
    "    file.write(r1.content)\n",
    "    \n",
    "r2 = requests.get('https://d17h27t6h515a5.cloudfront.net/topher/2017/August/59a4e958_twitter-archive-enhanced/twitter-archive-enhanced.csv')\n",
    "\n",
    "with open('twitter-archive-enhanced.csv', mode = 'wb') as file:\n",
    "    file.write(r2.content)"
   ]
  },
  {
   "cell_type": "code",
   "execution_count": 4,
   "metadata": {
    "collapsed": true
   },
   "outputs": [],
   "source": [
    "# reading data from the flat files into dataframes\n",
    "\n",
    "df_tweets = pd.read_csv('twitter-archive-enhanced.csv')\n",
    "\n",
    "df_preds = pd.read_csv('image-predictions.tsv', sep = '\\t')"
   ]
  },
  {
   "cell_type": "code",
   "execution_count": 5,
   "metadata": {
    "scrolled": false
   },
   "source": [
    "# fetching json data for dog_rate tweets\n",
    "# by iterating through the tweet_id column\n",
    "# of the tweet dataframe, writing the\n",
    "# data into a .txt file; tweet ids rising\n",
    "# errors stored into a list for further\n",
    "# perusal\n",
    "\n",
    "error_ids = []\n",
    "\n",
    "for _ in df_tweets.tweet_id:\n",
    "    try:\n",
    "        tweet = api.get_status(_)\n",
    "        with open('tweet_json.txt', mode = 'a') as file:\n",
    "            file.write((json.dumps(tweet._json) + '\\n'))\n",
    "    except:\n",
    "        error_ids.append(_)"
   ]
  },
  {
   "cell_type": "markdown",
   "metadata": {},
   "source": [
    "Now that most of the tweet ids have been successfully processed, let's print links to those tweets that the above `for` loop was unable to process."
   ]
  },
  {
   "cell_type": "code",
   "execution_count": 6,
   "metadata": {},
   "outputs": [
    {
     "name": "stdout",
     "output_type": "stream",
     "text": [
      "13 \n",
      "\n",
      "https://twitter.com/dog_rates/status/888202515573088257\n",
      "\n",
      "https://twitter.com/dog_rates/status/873697596434513921\n",
      "\n",
      "https://twitter.com/dog_rates/status/869988702071779329\n",
      "\n",
      "https://twitter.com/dog_rates/status/866816280283807744\n",
      "\n",
      "https://twitter.com/dog_rates/status/861769973181624320\n",
      "\n",
      "https://twitter.com/dog_rates/status/845459076796616705\n",
      "\n",
      "https://twitter.com/dog_rates/status/842892208864923648\n",
      "\n",
      "https://twitter.com/dog_rates/status/837012587749474308\n",
      "\n",
      "https://twitter.com/dog_rates/status/827228250799742977\n",
      "\n",
      "https://twitter.com/dog_rates/status/802247111496568832\n",
      "\n",
      "https://twitter.com/dog_rates/status/775096608509886464\n",
      "\n",
      "https://twitter.com/dog_rates/status/758740312047005698\n",
      "\n",
      "https://twitter.com/dog_rates/status/676957860086095872\n",
      "\n"
     ]
    }
   ],
   "source": [
    "print(len(error_ids), '\\n')\n",
    "\n",
    "for _ in error_ids:\n",
    "    print(\"https://twitter.com/dog_rates/status/\" + str(_) + \"\\n\")"
   ]
  },
  {
   "cell_type": "markdown",
   "metadata": {},
   "source": [
    "Looking at the tweets, all expect the last two ones seem to be missing (ie. they are probably deleted). The last two can be appended manually into the `tweet_json.txt` file."
   ]
  },
  {
   "cell_type": "code",
   "execution_count": 7,
   "metadata": {
    "collapsed": true
   },
   "outputs": [],
   "source": [
    "error_tweet_1 = api.get_status(758740312047005698)\n",
    "\n",
    "error_tweet_2 = api.get_status(676957860086095872)\n",
    "\n",
    "with open('tweet_json.txt', mode = 'a') as file:\n",
    "    file.write((json.dumps(error_tweet_1._json) + '\\n'))\n",
    "    file.write((json.dumps(error_tweet_2._json) + '\\n'))"
   ]
  },
  {
   "cell_type": "code",
   "execution_count": 8,
   "metadata": {
    "collapsed": true
   },
   "outputs": [],
   "source": [
    "# reading data from the json text file\n",
    "# into a list of dictionaries;\n",
    "\n",
    "with open('tweet_json.txt', mode = 'r') as json_file:\n",
    "    line_list = json_file.readlines()\n",
    "\n",
    "df_list = []    \n",
    "\n",
    "for _ in line_list:\n",
    "    json_data = json.loads(_)\n",
    "    tweet_id = json_data['id_str']\n",
    "    retweets = json_data['retweet_count']\n",
    "    likes = json_data['favorite_count']\n",
    "    df_list.append({'tweet_id': tweet_id,\n",
    "                    'retweets': retweets,\n",
    "                    'likes': likes})\n",
    "    \n",
    "# 'retweet_count' and 'favorite_count' are integers by default\n",
    "# (cf. https://developer.twitter.com/en/docs/tweets/data-dictionary/overview/tweet-object),\n",
    "# so it is not necessary to convert them"
   ]
  },
  {
   "cell_type": "markdown",
   "metadata": {},
   "source": [
    "Finally, the data gathered from Twitter is converted into a proper dataframe."
   ]
  },
  {
   "cell_type": "code",
   "execution_count": 9,
   "metadata": {
    "collapsed": true
   },
   "outputs": [],
   "source": [
    "df_likes = pd.DataFrame(df_list, columns = ['tweet_id', 'retweets', 'likes'])"
   ]
  },
  {
   "cell_type": "markdown",
   "metadata": {},
   "source": [
    "<a id = 'assess'></a>\n",
    "\n",
    "## Assessing data\n",
    "\n",
    "Now that the different pieces of data have been gathered, it's time to assess them both programmatically and visually to identify any quality as well as tidiness issues the might have. For all three dataframes, the assesment starts with an overview provided by the `.info()`, `.head()`, `.tail()`, and `.sample()` functions, followed by more detailed scrutiny as necessary."
   ]
  },
  {
   "cell_type": "markdown",
   "metadata": {},
   "source": [
    "### Enhanced tweet data"
   ]
  },
  {
   "cell_type": "code",
   "execution_count": 10,
   "metadata": {},
   "outputs": [
    {
     "name": "stdout",
     "output_type": "stream",
     "text": [
      "<class 'pandas.core.frame.DataFrame'>\n",
      "RangeIndex: 2356 entries, 0 to 2355\n",
      "Data columns (total 17 columns):\n",
      "tweet_id                      2356 non-null int64\n",
      "in_reply_to_status_id         78 non-null float64\n",
      "in_reply_to_user_id           78 non-null float64\n",
      "timestamp                     2356 non-null object\n",
      "source                        2356 non-null object\n",
      "text                          2356 non-null object\n",
      "retweeted_status_id           181 non-null float64\n",
      "retweeted_status_user_id      181 non-null float64\n",
      "retweeted_status_timestamp    181 non-null object\n",
      "expanded_urls                 2297 non-null object\n",
      "rating_numerator              2356 non-null int64\n",
      "rating_denominator            2356 non-null int64\n",
      "name                          2356 non-null object\n",
      "doggo                         2356 non-null object\n",
      "floofer                       2356 non-null object\n",
      "pupper                        2356 non-null object\n",
      "puppo                         2356 non-null object\n",
      "dtypes: float64(4), int64(3), object(10)\n",
      "memory usage: 313.0+ KB\n"
     ]
    }
   ],
   "source": [
    "df_tweets.info()"
   ]
  },
  {
   "cell_type": "markdown",
   "metadata": {},
   "source": [
    "Several issues are immediately apparent from the listing above. First of all, the tweet id is an integer, while a string would be more appropriate especially for matching purposes. Secondly the tweet timestamp is an object - that is, a string - while we probably need datetime to make proper use of the timestamp for analytical purposes. Looking further at the data types, the dog stages - doggo, floofer, pupper, and puppo - have strings as their data type, while categorical data type would be more appropriate. Also, as a tidiness issue, the different dog stages are each encoded into separate variables while there should be only one dog stage variable with the different stages as values of that variable.\n",
    "\n",
    "Looking at the number of non-null observations in the different columns of the dataframe, apparently 181 observations in the dataframe are retweets. On the other hand, as the urls for tweet images are stored in expanded urls variable, there about 60 observations without images in them. Those rows need to be filtered out during the cleaning, as the project outline requires data of tweets with images that are not retweets."
   ]
  },
  {
   "cell_type": "code",
   "execution_count": 11,
   "metadata": {
    "scrolled": true
   },
   "outputs": [
    {
     "data": {
      "text/html": [
       "<div>\n",
       "<style>\n",
       "    .dataframe thead tr:only-child th {\n",
       "        text-align: right;\n",
       "    }\n",
       "\n",
       "    .dataframe thead th {\n",
       "        text-align: left;\n",
       "    }\n",
       "\n",
       "    .dataframe tbody tr th {\n",
       "        vertical-align: top;\n",
       "    }\n",
       "</style>\n",
       "<table border=\"1\" class=\"dataframe\">\n",
       "  <thead>\n",
       "    <tr style=\"text-align: right;\">\n",
       "      <th></th>\n",
       "      <th>tweet_id</th>\n",
       "      <th>in_reply_to_status_id</th>\n",
       "      <th>in_reply_to_user_id</th>\n",
       "      <th>timestamp</th>\n",
       "      <th>source</th>\n",
       "      <th>text</th>\n",
       "      <th>retweeted_status_id</th>\n",
       "      <th>retweeted_status_user_id</th>\n",
       "      <th>retweeted_status_timestamp</th>\n",
       "      <th>expanded_urls</th>\n",
       "      <th>rating_numerator</th>\n",
       "      <th>rating_denominator</th>\n",
       "      <th>name</th>\n",
       "      <th>doggo</th>\n",
       "      <th>floofer</th>\n",
       "      <th>pupper</th>\n",
       "      <th>puppo</th>\n",
       "    </tr>\n",
       "  </thead>\n",
       "  <tbody>\n",
       "    <tr>\n",
       "      <th>0</th>\n",
       "      <td>892420643555336193</td>\n",
       "      <td>NaN</td>\n",
       "      <td>NaN</td>\n",
       "      <td>2017-08-01 16:23:56 +0000</td>\n",
       "      <td>&lt;a href=\"http://twitter.com/download/iphone\" r...</td>\n",
       "      <td>This is Phineas. He's a mystical boy. Only eve...</td>\n",
       "      <td>NaN</td>\n",
       "      <td>NaN</td>\n",
       "      <td>NaN</td>\n",
       "      <td>https://twitter.com/dog_rates/status/892420643...</td>\n",
       "      <td>13</td>\n",
       "      <td>10</td>\n",
       "      <td>Phineas</td>\n",
       "      <td>None</td>\n",
       "      <td>None</td>\n",
       "      <td>None</td>\n",
       "      <td>None</td>\n",
       "    </tr>\n",
       "    <tr>\n",
       "      <th>1</th>\n",
       "      <td>892177421306343426</td>\n",
       "      <td>NaN</td>\n",
       "      <td>NaN</td>\n",
       "      <td>2017-08-01 00:17:27 +0000</td>\n",
       "      <td>&lt;a href=\"http://twitter.com/download/iphone\" r...</td>\n",
       "      <td>This is Tilly. She's just checking pup on you....</td>\n",
       "      <td>NaN</td>\n",
       "      <td>NaN</td>\n",
       "      <td>NaN</td>\n",
       "      <td>https://twitter.com/dog_rates/status/892177421...</td>\n",
       "      <td>13</td>\n",
       "      <td>10</td>\n",
       "      <td>Tilly</td>\n",
       "      <td>None</td>\n",
       "      <td>None</td>\n",
       "      <td>None</td>\n",
       "      <td>None</td>\n",
       "    </tr>\n",
       "    <tr>\n",
       "      <th>2</th>\n",
       "      <td>891815181378084864</td>\n",
       "      <td>NaN</td>\n",
       "      <td>NaN</td>\n",
       "      <td>2017-07-31 00:18:03 +0000</td>\n",
       "      <td>&lt;a href=\"http://twitter.com/download/iphone\" r...</td>\n",
       "      <td>This is Archie. He is a rare Norwegian Pouncin...</td>\n",
       "      <td>NaN</td>\n",
       "      <td>NaN</td>\n",
       "      <td>NaN</td>\n",
       "      <td>https://twitter.com/dog_rates/status/891815181...</td>\n",
       "      <td>12</td>\n",
       "      <td>10</td>\n",
       "      <td>Archie</td>\n",
       "      <td>None</td>\n",
       "      <td>None</td>\n",
       "      <td>None</td>\n",
       "      <td>None</td>\n",
       "    </tr>\n",
       "    <tr>\n",
       "      <th>3</th>\n",
       "      <td>891689557279858688</td>\n",
       "      <td>NaN</td>\n",
       "      <td>NaN</td>\n",
       "      <td>2017-07-30 15:58:51 +0000</td>\n",
       "      <td>&lt;a href=\"http://twitter.com/download/iphone\" r...</td>\n",
       "      <td>This is Darla. She commenced a snooze mid meal...</td>\n",
       "      <td>NaN</td>\n",
       "      <td>NaN</td>\n",
       "      <td>NaN</td>\n",
       "      <td>https://twitter.com/dog_rates/status/891689557...</td>\n",
       "      <td>13</td>\n",
       "      <td>10</td>\n",
       "      <td>Darla</td>\n",
       "      <td>None</td>\n",
       "      <td>None</td>\n",
       "      <td>None</td>\n",
       "      <td>None</td>\n",
       "    </tr>\n",
       "    <tr>\n",
       "      <th>4</th>\n",
       "      <td>891327558926688256</td>\n",
       "      <td>NaN</td>\n",
       "      <td>NaN</td>\n",
       "      <td>2017-07-29 16:00:24 +0000</td>\n",
       "      <td>&lt;a href=\"http://twitter.com/download/iphone\" r...</td>\n",
       "      <td>This is Franklin. He would like you to stop ca...</td>\n",
       "      <td>NaN</td>\n",
       "      <td>NaN</td>\n",
       "      <td>NaN</td>\n",
       "      <td>https://twitter.com/dog_rates/status/891327558...</td>\n",
       "      <td>12</td>\n",
       "      <td>10</td>\n",
       "      <td>Franklin</td>\n",
       "      <td>None</td>\n",
       "      <td>None</td>\n",
       "      <td>None</td>\n",
       "      <td>None</td>\n",
       "    </tr>\n",
       "  </tbody>\n",
       "</table>\n",
       "</div>"
      ],
      "text/plain": [
       "             tweet_id  in_reply_to_status_id  in_reply_to_user_id  \\\n",
       "0  892420643555336193                    NaN                  NaN   \n",
       "1  892177421306343426                    NaN                  NaN   \n",
       "2  891815181378084864                    NaN                  NaN   \n",
       "3  891689557279858688                    NaN                  NaN   \n",
       "4  891327558926688256                    NaN                  NaN   \n",
       "\n",
       "                   timestamp  \\\n",
       "0  2017-08-01 16:23:56 +0000   \n",
       "1  2017-08-01 00:17:27 +0000   \n",
       "2  2017-07-31 00:18:03 +0000   \n",
       "3  2017-07-30 15:58:51 +0000   \n",
       "4  2017-07-29 16:00:24 +0000   \n",
       "\n",
       "                                              source  \\\n",
       "0  <a href=\"http://twitter.com/download/iphone\" r...   \n",
       "1  <a href=\"http://twitter.com/download/iphone\" r...   \n",
       "2  <a href=\"http://twitter.com/download/iphone\" r...   \n",
       "3  <a href=\"http://twitter.com/download/iphone\" r...   \n",
       "4  <a href=\"http://twitter.com/download/iphone\" r...   \n",
       "\n",
       "                                                text  retweeted_status_id  \\\n",
       "0  This is Phineas. He's a mystical boy. Only eve...                  NaN   \n",
       "1  This is Tilly. She's just checking pup on you....                  NaN   \n",
       "2  This is Archie. He is a rare Norwegian Pouncin...                  NaN   \n",
       "3  This is Darla. She commenced a snooze mid meal...                  NaN   \n",
       "4  This is Franklin. He would like you to stop ca...                  NaN   \n",
       "\n",
       "   retweeted_status_user_id retweeted_status_timestamp  \\\n",
       "0                       NaN                        NaN   \n",
       "1                       NaN                        NaN   \n",
       "2                       NaN                        NaN   \n",
       "3                       NaN                        NaN   \n",
       "4                       NaN                        NaN   \n",
       "\n",
       "                                       expanded_urls  rating_numerator  \\\n",
       "0  https://twitter.com/dog_rates/status/892420643...                13   \n",
       "1  https://twitter.com/dog_rates/status/892177421...                13   \n",
       "2  https://twitter.com/dog_rates/status/891815181...                12   \n",
       "3  https://twitter.com/dog_rates/status/891689557...                13   \n",
       "4  https://twitter.com/dog_rates/status/891327558...                12   \n",
       "\n",
       "   rating_denominator      name doggo floofer pupper puppo  \n",
       "0                  10   Phineas  None    None   None  None  \n",
       "1                  10     Tilly  None    None   None  None  \n",
       "2                  10    Archie  None    None   None  None  \n",
       "3                  10     Darla  None    None   None  None  \n",
       "4                  10  Franklin  None    None   None  None  "
      ]
     },
     "execution_count": 11,
     "metadata": {},
     "output_type": "execute_result"
    }
   ],
   "source": [
    "df_tweets.head()"
   ]
  },
  {
   "cell_type": "code",
   "execution_count": 12,
   "metadata": {},
   "outputs": [
    {
     "data": {
      "text/html": [
       "<div>\n",
       "<style>\n",
       "    .dataframe thead tr:only-child th {\n",
       "        text-align: right;\n",
       "    }\n",
       "\n",
       "    .dataframe thead th {\n",
       "        text-align: left;\n",
       "    }\n",
       "\n",
       "    .dataframe tbody tr th {\n",
       "        vertical-align: top;\n",
       "    }\n",
       "</style>\n",
       "<table border=\"1\" class=\"dataframe\">\n",
       "  <thead>\n",
       "    <tr style=\"text-align: right;\">\n",
       "      <th></th>\n",
       "      <th>tweet_id</th>\n",
       "      <th>in_reply_to_status_id</th>\n",
       "      <th>in_reply_to_user_id</th>\n",
       "      <th>timestamp</th>\n",
       "      <th>source</th>\n",
       "      <th>text</th>\n",
       "      <th>retweeted_status_id</th>\n",
       "      <th>retweeted_status_user_id</th>\n",
       "      <th>retweeted_status_timestamp</th>\n",
       "      <th>expanded_urls</th>\n",
       "      <th>rating_numerator</th>\n",
       "      <th>rating_denominator</th>\n",
       "      <th>name</th>\n",
       "      <th>doggo</th>\n",
       "      <th>floofer</th>\n",
       "      <th>pupper</th>\n",
       "      <th>puppo</th>\n",
       "    </tr>\n",
       "  </thead>\n",
       "  <tbody>\n",
       "    <tr>\n",
       "      <th>1527</th>\n",
       "      <td>690360449368465409</td>\n",
       "      <td>NaN</td>\n",
       "      <td>NaN</td>\n",
       "      <td>2016-01-22 02:28:52 +0000</td>\n",
       "      <td>&lt;a href=\"http://twitter.com/download/iphone\" r...</td>\n",
       "      <td>Stop sending in lobsters. This is the final wa...</td>\n",
       "      <td>NaN</td>\n",
       "      <td>NaN</td>\n",
       "      <td>NaN</td>\n",
       "      <td>https://twitter.com/dog_rates/status/690360449...</td>\n",
       "      <td>9</td>\n",
       "      <td>10</td>\n",
       "      <td>the</td>\n",
       "      <td>None</td>\n",
       "      <td>None</td>\n",
       "      <td>None</td>\n",
       "      <td>None</td>\n",
       "    </tr>\n",
       "    <tr>\n",
       "      <th>99</th>\n",
       "      <td>872967104147763200</td>\n",
       "      <td>NaN</td>\n",
       "      <td>NaN</td>\n",
       "      <td>2017-06-09 00:02:31 +0000</td>\n",
       "      <td>&lt;a href=\"http://twitter.com/download/iphone\" r...</td>\n",
       "      <td>Here's a very large dog. He has a date later. ...</td>\n",
       "      <td>NaN</td>\n",
       "      <td>NaN</td>\n",
       "      <td>NaN</td>\n",
       "      <td>https://twitter.com/dog_rates/status/872967104...</td>\n",
       "      <td>12</td>\n",
       "      <td>10</td>\n",
       "      <td>None</td>\n",
       "      <td>doggo</td>\n",
       "      <td>None</td>\n",
       "      <td>None</td>\n",
       "      <td>None</td>\n",
       "    </tr>\n",
       "    <tr>\n",
       "      <th>2092</th>\n",
       "      <td>670782429121134593</td>\n",
       "      <td>NaN</td>\n",
       "      <td>NaN</td>\n",
       "      <td>2015-11-29 01:52:48 +0000</td>\n",
       "      <td>&lt;a href=\"http://twitter.com/download/iphone\" r...</td>\n",
       "      <td>This dude slaps your girl's ass what do you do...</td>\n",
       "      <td>NaN</td>\n",
       "      <td>NaN</td>\n",
       "      <td>NaN</td>\n",
       "      <td>https://twitter.com/dog_rates/status/670782429...</td>\n",
       "      <td>5</td>\n",
       "      <td>10</td>\n",
       "      <td>None</td>\n",
       "      <td>None</td>\n",
       "      <td>None</td>\n",
       "      <td>None</td>\n",
       "      <td>None</td>\n",
       "    </tr>\n",
       "    <tr>\n",
       "      <th>1378</th>\n",
       "      <td>701570477911896070</td>\n",
       "      <td>NaN</td>\n",
       "      <td>NaN</td>\n",
       "      <td>2016-02-22 00:53:31 +0000</td>\n",
       "      <td>&lt;a href=\"http://twitter.com/download/iphone\" r...</td>\n",
       "      <td>This is Yoda. He's a Zimbabwean Rutabaga. Frea...</td>\n",
       "      <td>NaN</td>\n",
       "      <td>NaN</td>\n",
       "      <td>NaN</td>\n",
       "      <td>https://twitter.com/dog_rates/status/701570477...</td>\n",
       "      <td>9</td>\n",
       "      <td>10</td>\n",
       "      <td>Yoda</td>\n",
       "      <td>None</td>\n",
       "      <td>None</td>\n",
       "      <td>None</td>\n",
       "      <td>None</td>\n",
       "    </tr>\n",
       "    <tr>\n",
       "      <th>2209</th>\n",
       "      <td>668623201287675904</td>\n",
       "      <td>NaN</td>\n",
       "      <td>NaN</td>\n",
       "      <td>2015-11-23 02:52:48 +0000</td>\n",
       "      <td>&lt;a href=\"http://twitter.com/download/iphone\" r...</td>\n",
       "      <td>This is Jomathan. He is not thrilled about the...</td>\n",
       "      <td>NaN</td>\n",
       "      <td>NaN</td>\n",
       "      <td>NaN</td>\n",
       "      <td>https://twitter.com/dog_rates/status/668623201...</td>\n",
       "      <td>10</td>\n",
       "      <td>10</td>\n",
       "      <td>Jomathan</td>\n",
       "      <td>None</td>\n",
       "      <td>None</td>\n",
       "      <td>None</td>\n",
       "      <td>None</td>\n",
       "    </tr>\n",
       "  </tbody>\n",
       "</table>\n",
       "</div>"
      ],
      "text/plain": [
       "                tweet_id  in_reply_to_status_id  in_reply_to_user_id  \\\n",
       "1527  690360449368465409                    NaN                  NaN   \n",
       "99    872967104147763200                    NaN                  NaN   \n",
       "2092  670782429121134593                    NaN                  NaN   \n",
       "1378  701570477911896070                    NaN                  NaN   \n",
       "2209  668623201287675904                    NaN                  NaN   \n",
       "\n",
       "                      timestamp  \\\n",
       "1527  2016-01-22 02:28:52 +0000   \n",
       "99    2017-06-09 00:02:31 +0000   \n",
       "2092  2015-11-29 01:52:48 +0000   \n",
       "1378  2016-02-22 00:53:31 +0000   \n",
       "2209  2015-11-23 02:52:48 +0000   \n",
       "\n",
       "                                                 source  \\\n",
       "1527  <a href=\"http://twitter.com/download/iphone\" r...   \n",
       "99    <a href=\"http://twitter.com/download/iphone\" r...   \n",
       "2092  <a href=\"http://twitter.com/download/iphone\" r...   \n",
       "1378  <a href=\"http://twitter.com/download/iphone\" r...   \n",
       "2209  <a href=\"http://twitter.com/download/iphone\" r...   \n",
       "\n",
       "                                                   text  retweeted_status_id  \\\n",
       "1527  Stop sending in lobsters. This is the final wa...                  NaN   \n",
       "99    Here's a very large dog. He has a date later. ...                  NaN   \n",
       "2092  This dude slaps your girl's ass what do you do...                  NaN   \n",
       "1378  This is Yoda. He's a Zimbabwean Rutabaga. Frea...                  NaN   \n",
       "2209  This is Jomathan. He is not thrilled about the...                  NaN   \n",
       "\n",
       "      retweeted_status_user_id retweeted_status_timestamp  \\\n",
       "1527                       NaN                        NaN   \n",
       "99                         NaN                        NaN   \n",
       "2092                       NaN                        NaN   \n",
       "1378                       NaN                        NaN   \n",
       "2209                       NaN                        NaN   \n",
       "\n",
       "                                          expanded_urls  rating_numerator  \\\n",
       "1527  https://twitter.com/dog_rates/status/690360449...                 9   \n",
       "99    https://twitter.com/dog_rates/status/872967104...                12   \n",
       "2092  https://twitter.com/dog_rates/status/670782429...                 5   \n",
       "1378  https://twitter.com/dog_rates/status/701570477...                 9   \n",
       "2209  https://twitter.com/dog_rates/status/668623201...                10   \n",
       "\n",
       "      rating_denominator      name  doggo floofer pupper puppo  \n",
       "1527                  10       the   None    None   None  None  \n",
       "99                    10      None  doggo    None   None  None  \n",
       "2092                  10      None   None    None   None  None  \n",
       "1378                  10      Yoda   None    None   None  None  \n",
       "2209                  10  Jomathan   None    None   None  None  "
      ]
     },
     "execution_count": 12,
     "metadata": {},
     "output_type": "execute_result"
    }
   ],
   "source": [
    "df_tweets.sample(5)"
   ]
  },
  {
   "cell_type": "code",
   "execution_count": 13,
   "metadata": {},
   "outputs": [
    {
     "data": {
      "text/html": [
       "<div>\n",
       "<style>\n",
       "    .dataframe thead tr:only-child th {\n",
       "        text-align: right;\n",
       "    }\n",
       "\n",
       "    .dataframe thead th {\n",
       "        text-align: left;\n",
       "    }\n",
       "\n",
       "    .dataframe tbody tr th {\n",
       "        vertical-align: top;\n",
       "    }\n",
       "</style>\n",
       "<table border=\"1\" class=\"dataframe\">\n",
       "  <thead>\n",
       "    <tr style=\"text-align: right;\">\n",
       "      <th></th>\n",
       "      <th>tweet_id</th>\n",
       "      <th>in_reply_to_status_id</th>\n",
       "      <th>in_reply_to_user_id</th>\n",
       "      <th>timestamp</th>\n",
       "      <th>source</th>\n",
       "      <th>text</th>\n",
       "      <th>retweeted_status_id</th>\n",
       "      <th>retweeted_status_user_id</th>\n",
       "      <th>retweeted_status_timestamp</th>\n",
       "      <th>expanded_urls</th>\n",
       "      <th>rating_numerator</th>\n",
       "      <th>rating_denominator</th>\n",
       "      <th>name</th>\n",
       "      <th>doggo</th>\n",
       "      <th>floofer</th>\n",
       "      <th>pupper</th>\n",
       "      <th>puppo</th>\n",
       "    </tr>\n",
       "  </thead>\n",
       "  <tbody>\n",
       "    <tr>\n",
       "      <th>2351</th>\n",
       "      <td>666049248165822465</td>\n",
       "      <td>NaN</td>\n",
       "      <td>NaN</td>\n",
       "      <td>2015-11-16 00:24:50 +0000</td>\n",
       "      <td>&lt;a href=\"http://twitter.com/download/iphone\" r...</td>\n",
       "      <td>Here we have a 1949 1st generation vulpix. Enj...</td>\n",
       "      <td>NaN</td>\n",
       "      <td>NaN</td>\n",
       "      <td>NaN</td>\n",
       "      <td>https://twitter.com/dog_rates/status/666049248...</td>\n",
       "      <td>5</td>\n",
       "      <td>10</td>\n",
       "      <td>None</td>\n",
       "      <td>None</td>\n",
       "      <td>None</td>\n",
       "      <td>None</td>\n",
       "      <td>None</td>\n",
       "    </tr>\n",
       "    <tr>\n",
       "      <th>2352</th>\n",
       "      <td>666044226329800704</td>\n",
       "      <td>NaN</td>\n",
       "      <td>NaN</td>\n",
       "      <td>2015-11-16 00:04:52 +0000</td>\n",
       "      <td>&lt;a href=\"http://twitter.com/download/iphone\" r...</td>\n",
       "      <td>This is a purebred Piers Morgan. Loves to Netf...</td>\n",
       "      <td>NaN</td>\n",
       "      <td>NaN</td>\n",
       "      <td>NaN</td>\n",
       "      <td>https://twitter.com/dog_rates/status/666044226...</td>\n",
       "      <td>6</td>\n",
       "      <td>10</td>\n",
       "      <td>a</td>\n",
       "      <td>None</td>\n",
       "      <td>None</td>\n",
       "      <td>None</td>\n",
       "      <td>None</td>\n",
       "    </tr>\n",
       "    <tr>\n",
       "      <th>2353</th>\n",
       "      <td>666033412701032449</td>\n",
       "      <td>NaN</td>\n",
       "      <td>NaN</td>\n",
       "      <td>2015-11-15 23:21:54 +0000</td>\n",
       "      <td>&lt;a href=\"http://twitter.com/download/iphone\" r...</td>\n",
       "      <td>Here is a very happy pup. Big fan of well-main...</td>\n",
       "      <td>NaN</td>\n",
       "      <td>NaN</td>\n",
       "      <td>NaN</td>\n",
       "      <td>https://twitter.com/dog_rates/status/666033412...</td>\n",
       "      <td>9</td>\n",
       "      <td>10</td>\n",
       "      <td>a</td>\n",
       "      <td>None</td>\n",
       "      <td>None</td>\n",
       "      <td>None</td>\n",
       "      <td>None</td>\n",
       "    </tr>\n",
       "    <tr>\n",
       "      <th>2354</th>\n",
       "      <td>666029285002620928</td>\n",
       "      <td>NaN</td>\n",
       "      <td>NaN</td>\n",
       "      <td>2015-11-15 23:05:30 +0000</td>\n",
       "      <td>&lt;a href=\"http://twitter.com/download/iphone\" r...</td>\n",
       "      <td>This is a western brown Mitsubishi terrier. Up...</td>\n",
       "      <td>NaN</td>\n",
       "      <td>NaN</td>\n",
       "      <td>NaN</td>\n",
       "      <td>https://twitter.com/dog_rates/status/666029285...</td>\n",
       "      <td>7</td>\n",
       "      <td>10</td>\n",
       "      <td>a</td>\n",
       "      <td>None</td>\n",
       "      <td>None</td>\n",
       "      <td>None</td>\n",
       "      <td>None</td>\n",
       "    </tr>\n",
       "    <tr>\n",
       "      <th>2355</th>\n",
       "      <td>666020888022790149</td>\n",
       "      <td>NaN</td>\n",
       "      <td>NaN</td>\n",
       "      <td>2015-11-15 22:32:08 +0000</td>\n",
       "      <td>&lt;a href=\"http://twitter.com/download/iphone\" r...</td>\n",
       "      <td>Here we have a Japanese Irish Setter. Lost eye...</td>\n",
       "      <td>NaN</td>\n",
       "      <td>NaN</td>\n",
       "      <td>NaN</td>\n",
       "      <td>https://twitter.com/dog_rates/status/666020888...</td>\n",
       "      <td>8</td>\n",
       "      <td>10</td>\n",
       "      <td>None</td>\n",
       "      <td>None</td>\n",
       "      <td>None</td>\n",
       "      <td>None</td>\n",
       "      <td>None</td>\n",
       "    </tr>\n",
       "  </tbody>\n",
       "</table>\n",
       "</div>"
      ],
      "text/plain": [
       "                tweet_id  in_reply_to_status_id  in_reply_to_user_id  \\\n",
       "2351  666049248165822465                    NaN                  NaN   \n",
       "2352  666044226329800704                    NaN                  NaN   \n",
       "2353  666033412701032449                    NaN                  NaN   \n",
       "2354  666029285002620928                    NaN                  NaN   \n",
       "2355  666020888022790149                    NaN                  NaN   \n",
       "\n",
       "                      timestamp  \\\n",
       "2351  2015-11-16 00:24:50 +0000   \n",
       "2352  2015-11-16 00:04:52 +0000   \n",
       "2353  2015-11-15 23:21:54 +0000   \n",
       "2354  2015-11-15 23:05:30 +0000   \n",
       "2355  2015-11-15 22:32:08 +0000   \n",
       "\n",
       "                                                 source  \\\n",
       "2351  <a href=\"http://twitter.com/download/iphone\" r...   \n",
       "2352  <a href=\"http://twitter.com/download/iphone\" r...   \n",
       "2353  <a href=\"http://twitter.com/download/iphone\" r...   \n",
       "2354  <a href=\"http://twitter.com/download/iphone\" r...   \n",
       "2355  <a href=\"http://twitter.com/download/iphone\" r...   \n",
       "\n",
       "                                                   text  retweeted_status_id  \\\n",
       "2351  Here we have a 1949 1st generation vulpix. Enj...                  NaN   \n",
       "2352  This is a purebred Piers Morgan. Loves to Netf...                  NaN   \n",
       "2353  Here is a very happy pup. Big fan of well-main...                  NaN   \n",
       "2354  This is a western brown Mitsubishi terrier. Up...                  NaN   \n",
       "2355  Here we have a Japanese Irish Setter. Lost eye...                  NaN   \n",
       "\n",
       "      retweeted_status_user_id retweeted_status_timestamp  \\\n",
       "2351                       NaN                        NaN   \n",
       "2352                       NaN                        NaN   \n",
       "2353                       NaN                        NaN   \n",
       "2354                       NaN                        NaN   \n",
       "2355                       NaN                        NaN   \n",
       "\n",
       "                                          expanded_urls  rating_numerator  \\\n",
       "2351  https://twitter.com/dog_rates/status/666049248...                 5   \n",
       "2352  https://twitter.com/dog_rates/status/666044226...                 6   \n",
       "2353  https://twitter.com/dog_rates/status/666033412...                 9   \n",
       "2354  https://twitter.com/dog_rates/status/666029285...                 7   \n",
       "2355  https://twitter.com/dog_rates/status/666020888...                 8   \n",
       "\n",
       "      rating_denominator  name doggo floofer pupper puppo  \n",
       "2351                  10  None  None    None   None  None  \n",
       "2352                  10     a  None    None   None  None  \n",
       "2353                  10     a  None    None   None  None  \n",
       "2354                  10     a  None    None   None  None  \n",
       "2355                  10  None  None    None   None  None  "
      ]
     },
     "execution_count": 13,
     "metadata": {},
     "output_type": "execute_result"
    }
   ],
   "source": [
    "df_tweets.tail()"
   ]
  },
  {
   "cell_type": "markdown",
   "metadata": {},
   "source": [
    "The snapshots show a couple more data quality issues. First of all, the name and the dog stage columns have missing data classified as 'None'. These should be converted 'NaN' values to facilitate data handling. Also the tail of the dataframe shows a couple of dogs named 'a'. Let's take a closer look of that next."
   ]
  },
  {
   "cell_type": "code",
   "execution_count": 14,
   "metadata": {},
   "outputs": [
    {
     "data": {
      "text/plain": [
       "None          745\n",
       "a              55\n",
       "Charlie        12\n",
       "Lucy           11\n",
       "Cooper         11\n",
       "Oliver         11\n",
       "Lola           10\n",
       "Tucker         10\n",
       "Penny          10\n",
       "Winston         9\n",
       "Bo              9\n",
       "the             8\n",
       "Sadie           8\n",
       "Toby            7\n",
       "Bailey          7\n",
       "Daisy           7\n",
       "an              7\n",
       "Buddy           7\n",
       "Jack            6\n",
       "Koda            6\n",
       "Bella           6\n",
       "Milo            6\n",
       "Leo             6\n",
       "Rusty           6\n",
       "Scout           6\n",
       "Jax             6\n",
       "Stanley         6\n",
       "Dave            6\n",
       "Oscar           6\n",
       "very            5\n",
       "             ... \n",
       "Josep           1\n",
       "Tonks           1\n",
       "Ulysses         1\n",
       "Chesterson      1\n",
       "Aldrick         1\n",
       "Beya            1\n",
       "Siba            1\n",
       "Maisey          1\n",
       "William         1\n",
       "Strudel         1\n",
       "Suki            1\n",
       "Luther          1\n",
       "Pete            1\n",
       "Lillie          1\n",
       "Nimbus          1\n",
       "Eevee           1\n",
       "Einstein        1\n",
       "Jareld          1\n",
       "Bluebert        1\n",
       "Lucky           1\n",
       "Bones           1\n",
       "Brandonald      1\n",
       "Tyrus           1\n",
       "Mya             1\n",
       "Clarkus         1\n",
       "Acro            1\n",
       "Emma            1\n",
       "Lacy            1\n",
       "Pepper          1\n",
       "Kayla           1\n",
       "Name: name, Length: 957, dtype: int64"
      ]
     },
     "execution_count": 14,
     "metadata": {},
     "output_type": "execute_result"
    }
   ],
   "source": [
    "df_tweets.name.value_counts()"
   ]
  },
  {
   "cell_type": "markdown",
   "metadata": {},
   "source": [
    "Looking at the name column value counts, the most popular dog name seems indeed to be 'a', with names such as 'the', 'an', and 'very' also showing up several times. So words that are not names should be cleaned away from that column.\n",
    "\n",
    "In the Project motivation concept it was noted that the dog ratings might not be completely correct, so let's take a look at them next."
   ]
  },
  {
   "cell_type": "code",
   "execution_count": 15,
   "metadata": {},
   "outputs": [
    {
     "data": {
      "text/plain": [
       "12      558\n",
       "11      464\n",
       "10      461\n",
       "13      351\n",
       "9       158\n",
       "8       102\n",
       "7        55\n",
       "14       54\n",
       "5        37\n",
       "6        32\n",
       "3        19\n",
       "4        17\n",
       "1         9\n",
       "2         9\n",
       "420       2\n",
       "0         2\n",
       "15        2\n",
       "75        2\n",
       "80        1\n",
       "20        1\n",
       "24        1\n",
       "26        1\n",
       "44        1\n",
       "50        1\n",
       "60        1\n",
       "165       1\n",
       "84        1\n",
       "88        1\n",
       "144       1\n",
       "182       1\n",
       "143       1\n",
       "666       1\n",
       "960       1\n",
       "1776      1\n",
       "17        1\n",
       "27        1\n",
       "45        1\n",
       "99        1\n",
       "121       1\n",
       "204       1\n",
       "Name: rating_numerator, dtype: int64"
      ]
     },
     "execution_count": 15,
     "metadata": {},
     "output_type": "execute_result"
    }
   ],
   "source": [
    "df_tweets.rating_numerator.value_counts()"
   ]
  },
  {
   "cell_type": "code",
   "execution_count": 16,
   "metadata": {},
   "outputs": [
    {
     "data": {
      "text/plain": [
       "10     2333\n",
       "11        3\n",
       "50        3\n",
       "80        2\n",
       "20        2\n",
       "2         1\n",
       "16        1\n",
       "40        1\n",
       "70        1\n",
       "15        1\n",
       "90        1\n",
       "110       1\n",
       "120       1\n",
       "130       1\n",
       "150       1\n",
       "170       1\n",
       "7         1\n",
       "0         1\n",
       "Name: rating_denominator, dtype: int64"
      ]
     },
     "execution_count": 16,
     "metadata": {},
     "output_type": "execute_result"
    }
   ],
   "source": [
    "df_tweets.rating_denominator.value_counts()"
   ]
  },
  {
   "cell_type": "markdown",
   "metadata": {},
   "source": [
    "So the value counts show rating numerators that go into three or four digits, which is inappropriately high even for WeRateDogs' whimsical rating schema. And not only that, even the rating denominators have some quite high values as well as several other non-ten values. So, two more quality issues to be fixed.\n",
    "\n",
    "Having looked through the enchanced tweet data pretty comprehensively, its time to move on the likes and retweets dataframe."
   ]
  },
  {
   "cell_type": "markdown",
   "metadata": {},
   "source": [
    "### Likes and retweets"
   ]
  },
  {
   "cell_type": "code",
   "execution_count": 17,
   "metadata": {},
   "outputs": [
    {
     "name": "stdout",
     "output_type": "stream",
     "text": [
      "<class 'pandas.core.frame.DataFrame'>\n",
      "RangeIndex: 4690 entries, 0 to 4689\n",
      "Data columns (total 3 columns):\n",
      "tweet_id    4690 non-null object\n",
      "retweets    4690 non-null int64\n",
      "likes       4690 non-null int64\n",
      "dtypes: int64(2), object(1)\n",
      "memory usage: 110.0+ KB\n"
     ]
    }
   ],
   "source": [
    "df_likes.info()"
   ]
  },
  {
   "cell_type": "code",
   "execution_count": 18,
   "metadata": {},
   "outputs": [
    {
     "data": {
      "text/html": [
       "<div>\n",
       "<style>\n",
       "    .dataframe thead tr:only-child th {\n",
       "        text-align: right;\n",
       "    }\n",
       "\n",
       "    .dataframe thead th {\n",
       "        text-align: left;\n",
       "    }\n",
       "\n",
       "    .dataframe tbody tr th {\n",
       "        vertical-align: top;\n",
       "    }\n",
       "</style>\n",
       "<table border=\"1\" class=\"dataframe\">\n",
       "  <thead>\n",
       "    <tr style=\"text-align: right;\">\n",
       "      <th></th>\n",
       "      <th>tweet_id</th>\n",
       "      <th>retweets</th>\n",
       "      <th>likes</th>\n",
       "    </tr>\n",
       "  </thead>\n",
       "  <tbody>\n",
       "    <tr>\n",
       "      <th>0</th>\n",
       "      <td>892420643555336193</td>\n",
       "      <td>8658</td>\n",
       "      <td>39005</td>\n",
       "    </tr>\n",
       "    <tr>\n",
       "      <th>1</th>\n",
       "      <td>892177421306343426</td>\n",
       "      <td>6358</td>\n",
       "      <td>33397</td>\n",
       "    </tr>\n",
       "    <tr>\n",
       "      <th>2</th>\n",
       "      <td>891815181378084864</td>\n",
       "      <td>4223</td>\n",
       "      <td>25181</td>\n",
       "    </tr>\n",
       "    <tr>\n",
       "      <th>3</th>\n",
       "      <td>891689557279858688</td>\n",
       "      <td>8769</td>\n",
       "      <td>42360</td>\n",
       "    </tr>\n",
       "    <tr>\n",
       "      <th>4</th>\n",
       "      <td>891327558926688256</td>\n",
       "      <td>9536</td>\n",
       "      <td>40521</td>\n",
       "    </tr>\n",
       "  </tbody>\n",
       "</table>\n",
       "</div>"
      ],
      "text/plain": [
       "             tweet_id  retweets  likes\n",
       "0  892420643555336193      8658  39005\n",
       "1  892177421306343426      6358  33397\n",
       "2  891815181378084864      4223  25181\n",
       "3  891689557279858688      8769  42360\n",
       "4  891327558926688256      9536  40521"
      ]
     },
     "execution_count": 18,
     "metadata": {},
     "output_type": "execute_result"
    }
   ],
   "source": [
    "df_likes.head()"
   ]
  },
  {
   "cell_type": "code",
   "execution_count": 19,
   "metadata": {},
   "outputs": [
    {
     "data": {
      "text/html": [
       "<div>\n",
       "<style>\n",
       "    .dataframe thead tr:only-child th {\n",
       "        text-align: right;\n",
       "    }\n",
       "\n",
       "    .dataframe thead th {\n",
       "        text-align: left;\n",
       "    }\n",
       "\n",
       "    .dataframe tbody tr th {\n",
       "        vertical-align: top;\n",
       "    }\n",
       "</style>\n",
       "<table border=\"1\" class=\"dataframe\">\n",
       "  <thead>\n",
       "    <tr style=\"text-align: right;\">\n",
       "      <th></th>\n",
       "      <th>tweet_id</th>\n",
       "      <th>retweets</th>\n",
       "      <th>likes</th>\n",
       "    </tr>\n",
       "  </thead>\n",
       "  <tbody>\n",
       "    <tr>\n",
       "      <th>406</th>\n",
       "      <td>822647212903690241</td>\n",
       "      <td>7215</td>\n",
       "      <td>0</td>\n",
       "    </tr>\n",
       "    <tr>\n",
       "      <th>4050</th>\n",
       "      <td>680191257256136705</td>\n",
       "      <td>566</td>\n",
       "      <td>2303</td>\n",
       "    </tr>\n",
       "    <tr>\n",
       "      <th>99</th>\n",
       "      <td>872668790621863937</td>\n",
       "      <td>30</td>\n",
       "      <td>0</td>\n",
       "    </tr>\n",
       "    <tr>\n",
       "      <th>1044</th>\n",
       "      <td>742385895052087300</td>\n",
       "      <td>2206</td>\n",
       "      <td>7330</td>\n",
       "    </tr>\n",
       "    <tr>\n",
       "      <th>1379</th>\n",
       "      <td>700151421916807169</td>\n",
       "      <td>734</td>\n",
       "      <td>2413</td>\n",
       "    </tr>\n",
       "  </tbody>\n",
       "</table>\n",
       "</div>"
      ],
      "text/plain": [
       "                tweet_id  retweets  likes\n",
       "406   822647212903690241      7215      0\n",
       "4050  680191257256136705       566   2303\n",
       "99    872668790621863937        30      0\n",
       "1044  742385895052087300      2206   7330\n",
       "1379  700151421916807169       734   2413"
      ]
     },
     "execution_count": 19,
     "metadata": {},
     "output_type": "execute_result"
    }
   ],
   "source": [
    "df_likes.sample(5)"
   ]
  },
  {
   "cell_type": "code",
   "execution_count": 20,
   "metadata": {},
   "outputs": [
    {
     "data": {
      "text/html": [
       "<div>\n",
       "<style>\n",
       "    .dataframe thead tr:only-child th {\n",
       "        text-align: right;\n",
       "    }\n",
       "\n",
       "    .dataframe thead th {\n",
       "        text-align: left;\n",
       "    }\n",
       "\n",
       "    .dataframe tbody tr th {\n",
       "        vertical-align: top;\n",
       "    }\n",
       "</style>\n",
       "<table border=\"1\" class=\"dataframe\">\n",
       "  <thead>\n",
       "    <tr style=\"text-align: right;\">\n",
       "      <th></th>\n",
       "      <th>tweet_id</th>\n",
       "      <th>retweets</th>\n",
       "      <th>likes</th>\n",
       "    </tr>\n",
       "  </thead>\n",
       "  <tbody>\n",
       "    <tr>\n",
       "      <th>4685</th>\n",
       "      <td>666033412701032449</td>\n",
       "      <td>45</td>\n",
       "      <td>125</td>\n",
       "    </tr>\n",
       "    <tr>\n",
       "      <th>4686</th>\n",
       "      <td>666029285002620928</td>\n",
       "      <td>47</td>\n",
       "      <td>131</td>\n",
       "    </tr>\n",
       "    <tr>\n",
       "      <th>4687</th>\n",
       "      <td>666020888022790149</td>\n",
       "      <td>519</td>\n",
       "      <td>2525</td>\n",
       "    </tr>\n",
       "    <tr>\n",
       "      <th>4688</th>\n",
       "      <td>758740312047005698</td>\n",
       "      <td>1784</td>\n",
       "      <td>6234</td>\n",
       "    </tr>\n",
       "    <tr>\n",
       "      <th>4689</th>\n",
       "      <td>676957860086095872</td>\n",
       "      <td>889</td>\n",
       "      <td>2345</td>\n",
       "    </tr>\n",
       "  </tbody>\n",
       "</table>\n",
       "</div>"
      ],
      "text/plain": [
       "                tweet_id  retweets  likes\n",
       "4685  666033412701032449        45    125\n",
       "4686  666029285002620928        47    131\n",
       "4687  666020888022790149       519   2525\n",
       "4688  758740312047005698      1784   6234\n",
       "4689  676957860086095872       889   2345"
      ]
     },
     "execution_count": 20,
     "metadata": {},
     "output_type": "execute_result"
    }
   ],
   "source": [
    "df_likes.tail()"
   ]
  },
  {
   "cell_type": "markdown",
   "metadata": {},
   "source": [
    "No particular issues show up in the likes and retweets dataframe, so continuing on to the predictions dataframe."
   ]
  },
  {
   "cell_type": "markdown",
   "metadata": {},
   "source": [
    "### Image prediction data"
   ]
  },
  {
   "cell_type": "code",
   "execution_count": 21,
   "metadata": {},
   "outputs": [
    {
     "name": "stdout",
     "output_type": "stream",
     "text": [
      "<class 'pandas.core.frame.DataFrame'>\n",
      "RangeIndex: 2075 entries, 0 to 2074\n",
      "Data columns (total 12 columns):\n",
      "tweet_id    2075 non-null int64\n",
      "jpg_url     2075 non-null object\n",
      "img_num     2075 non-null int64\n",
      "p1          2075 non-null object\n",
      "p1_conf     2075 non-null float64\n",
      "p1_dog      2075 non-null bool\n",
      "p2          2075 non-null object\n",
      "p2_conf     2075 non-null float64\n",
      "p2_dog      2075 non-null bool\n",
      "p3          2075 non-null object\n",
      "p3_conf     2075 non-null float64\n",
      "p3_dog      2075 non-null bool\n",
      "dtypes: bool(3), float64(3), int64(2), object(4)\n",
      "memory usage: 152.1+ KB\n"
     ]
    }
   ],
   "source": [
    "df_preds.info()"
   ]
  },
  {
   "cell_type": "code",
   "execution_count": 22,
   "metadata": {},
   "outputs": [
    {
     "data": {
      "text/html": [
       "<div>\n",
       "<style>\n",
       "    .dataframe thead tr:only-child th {\n",
       "        text-align: right;\n",
       "    }\n",
       "\n",
       "    .dataframe thead th {\n",
       "        text-align: left;\n",
       "    }\n",
       "\n",
       "    .dataframe tbody tr th {\n",
       "        vertical-align: top;\n",
       "    }\n",
       "</style>\n",
       "<table border=\"1\" class=\"dataframe\">\n",
       "  <thead>\n",
       "    <tr style=\"text-align: right;\">\n",
       "      <th></th>\n",
       "      <th>tweet_id</th>\n",
       "      <th>jpg_url</th>\n",
       "      <th>img_num</th>\n",
       "      <th>p1</th>\n",
       "      <th>p1_conf</th>\n",
       "      <th>p1_dog</th>\n",
       "      <th>p2</th>\n",
       "      <th>p2_conf</th>\n",
       "      <th>p2_dog</th>\n",
       "      <th>p3</th>\n",
       "      <th>p3_conf</th>\n",
       "      <th>p3_dog</th>\n",
       "    </tr>\n",
       "  </thead>\n",
       "  <tbody>\n",
       "    <tr>\n",
       "      <th>0</th>\n",
       "      <td>666020888022790149</td>\n",
       "      <td>https://pbs.twimg.com/media/CT4udn0WwAA0aMy.jpg</td>\n",
       "      <td>1</td>\n",
       "      <td>Welsh_springer_spaniel</td>\n",
       "      <td>0.465074</td>\n",
       "      <td>True</td>\n",
       "      <td>collie</td>\n",
       "      <td>0.156665</td>\n",
       "      <td>True</td>\n",
       "      <td>Shetland_sheepdog</td>\n",
       "      <td>0.061428</td>\n",
       "      <td>True</td>\n",
       "    </tr>\n",
       "    <tr>\n",
       "      <th>1</th>\n",
       "      <td>666029285002620928</td>\n",
       "      <td>https://pbs.twimg.com/media/CT42GRgUYAA5iDo.jpg</td>\n",
       "      <td>1</td>\n",
       "      <td>redbone</td>\n",
       "      <td>0.506826</td>\n",
       "      <td>True</td>\n",
       "      <td>miniature_pinscher</td>\n",
       "      <td>0.074192</td>\n",
       "      <td>True</td>\n",
       "      <td>Rhodesian_ridgeback</td>\n",
       "      <td>0.072010</td>\n",
       "      <td>True</td>\n",
       "    </tr>\n",
       "    <tr>\n",
       "      <th>2</th>\n",
       "      <td>666033412701032449</td>\n",
       "      <td>https://pbs.twimg.com/media/CT4521TWwAEvMyu.jpg</td>\n",
       "      <td>1</td>\n",
       "      <td>German_shepherd</td>\n",
       "      <td>0.596461</td>\n",
       "      <td>True</td>\n",
       "      <td>malinois</td>\n",
       "      <td>0.138584</td>\n",
       "      <td>True</td>\n",
       "      <td>bloodhound</td>\n",
       "      <td>0.116197</td>\n",
       "      <td>True</td>\n",
       "    </tr>\n",
       "    <tr>\n",
       "      <th>3</th>\n",
       "      <td>666044226329800704</td>\n",
       "      <td>https://pbs.twimg.com/media/CT5Dr8HUEAA-lEu.jpg</td>\n",
       "      <td>1</td>\n",
       "      <td>Rhodesian_ridgeback</td>\n",
       "      <td>0.408143</td>\n",
       "      <td>True</td>\n",
       "      <td>redbone</td>\n",
       "      <td>0.360687</td>\n",
       "      <td>True</td>\n",
       "      <td>miniature_pinscher</td>\n",
       "      <td>0.222752</td>\n",
       "      <td>True</td>\n",
       "    </tr>\n",
       "    <tr>\n",
       "      <th>4</th>\n",
       "      <td>666049248165822465</td>\n",
       "      <td>https://pbs.twimg.com/media/CT5IQmsXIAAKY4A.jpg</td>\n",
       "      <td>1</td>\n",
       "      <td>miniature_pinscher</td>\n",
       "      <td>0.560311</td>\n",
       "      <td>True</td>\n",
       "      <td>Rottweiler</td>\n",
       "      <td>0.243682</td>\n",
       "      <td>True</td>\n",
       "      <td>Doberman</td>\n",
       "      <td>0.154629</td>\n",
       "      <td>True</td>\n",
       "    </tr>\n",
       "  </tbody>\n",
       "</table>\n",
       "</div>"
      ],
      "text/plain": [
       "             tweet_id                                          jpg_url  \\\n",
       "0  666020888022790149  https://pbs.twimg.com/media/CT4udn0WwAA0aMy.jpg   \n",
       "1  666029285002620928  https://pbs.twimg.com/media/CT42GRgUYAA5iDo.jpg   \n",
       "2  666033412701032449  https://pbs.twimg.com/media/CT4521TWwAEvMyu.jpg   \n",
       "3  666044226329800704  https://pbs.twimg.com/media/CT5Dr8HUEAA-lEu.jpg   \n",
       "4  666049248165822465  https://pbs.twimg.com/media/CT5IQmsXIAAKY4A.jpg   \n",
       "\n",
       "   img_num                      p1   p1_conf  p1_dog                  p2  \\\n",
       "0        1  Welsh_springer_spaniel  0.465074    True              collie   \n",
       "1        1                 redbone  0.506826    True  miniature_pinscher   \n",
       "2        1         German_shepherd  0.596461    True            malinois   \n",
       "3        1     Rhodesian_ridgeback  0.408143    True             redbone   \n",
       "4        1      miniature_pinscher  0.560311    True          Rottweiler   \n",
       "\n",
       "    p2_conf  p2_dog                   p3   p3_conf  p3_dog  \n",
       "0  0.156665    True    Shetland_sheepdog  0.061428    True  \n",
       "1  0.074192    True  Rhodesian_ridgeback  0.072010    True  \n",
       "2  0.138584    True           bloodhound  0.116197    True  \n",
       "3  0.360687    True   miniature_pinscher  0.222752    True  \n",
       "4  0.243682    True             Doberman  0.154629    True  "
      ]
     },
     "execution_count": 22,
     "metadata": {},
     "output_type": "execute_result"
    }
   ],
   "source": [
    "df_preds.head()"
   ]
  },
  {
   "cell_type": "code",
   "execution_count": 23,
   "metadata": {},
   "outputs": [
    {
     "data": {
      "text/html": [
       "<div>\n",
       "<style>\n",
       "    .dataframe thead tr:only-child th {\n",
       "        text-align: right;\n",
       "    }\n",
       "\n",
       "    .dataframe thead th {\n",
       "        text-align: left;\n",
       "    }\n",
       "\n",
       "    .dataframe tbody tr th {\n",
       "        vertical-align: top;\n",
       "    }\n",
       "</style>\n",
       "<table border=\"1\" class=\"dataframe\">\n",
       "  <thead>\n",
       "    <tr style=\"text-align: right;\">\n",
       "      <th></th>\n",
       "      <th>tweet_id</th>\n",
       "      <th>jpg_url</th>\n",
       "      <th>img_num</th>\n",
       "      <th>p1</th>\n",
       "      <th>p1_conf</th>\n",
       "      <th>p1_dog</th>\n",
       "      <th>p2</th>\n",
       "      <th>p2_conf</th>\n",
       "      <th>p2_dog</th>\n",
       "      <th>p3</th>\n",
       "      <th>p3_conf</th>\n",
       "      <th>p3_dog</th>\n",
       "    </tr>\n",
       "  </thead>\n",
       "  <tbody>\n",
       "    <tr>\n",
       "      <th>189</th>\n",
       "      <td>669375718304980992</td>\n",
       "      <td>https://pbs.twimg.com/media/CUoZqaqWcAAA2MQ.jpg</td>\n",
       "      <td>1</td>\n",
       "      <td>Airedale</td>\n",
       "      <td>0.168762</td>\n",
       "      <td>True</td>\n",
       "      <td>Norfolk_terrier</td>\n",
       "      <td>0.107479</td>\n",
       "      <td>True</td>\n",
       "      <td>Lakeland_terrier</td>\n",
       "      <td>0.097846</td>\n",
       "      <td>True</td>\n",
       "    </tr>\n",
       "    <tr>\n",
       "      <th>260</th>\n",
       "      <td>670783437142401025</td>\n",
       "      <td>https://pbs.twimg.com/media/CU8Z-OxXAAA-sd2.jpg</td>\n",
       "      <td>1</td>\n",
       "      <td>lacewing</td>\n",
       "      <td>0.381955</td>\n",
       "      <td>False</td>\n",
       "      <td>sulphur_butterfly</td>\n",
       "      <td>0.106810</td>\n",
       "      <td>False</td>\n",
       "      <td>leafhopper</td>\n",
       "      <td>0.068347</td>\n",
       "      <td>False</td>\n",
       "    </tr>\n",
       "    <tr>\n",
       "      <th>615</th>\n",
       "      <td>680176173301628928</td>\n",
       "      <td>https://pbs.twimg.com/media/CXB4nWnWEAAhLTX.jpg</td>\n",
       "      <td>1</td>\n",
       "      <td>Christmas_stocking</td>\n",
       "      <td>0.207547</td>\n",
       "      <td>False</td>\n",
       "      <td>mask</td>\n",
       "      <td>0.193880</td>\n",
       "      <td>False</td>\n",
       "      <td>feather_boa</td>\n",
       "      <td>0.152738</td>\n",
       "      <td>False</td>\n",
       "    </tr>\n",
       "    <tr>\n",
       "      <th>750</th>\n",
       "      <td>687826841265172480</td>\n",
       "      <td>https://pbs.twimg.com/media/CYum3KbWEAArFrI.jpg</td>\n",
       "      <td>1</td>\n",
       "      <td>Pomeranian</td>\n",
       "      <td>0.997210</td>\n",
       "      <td>True</td>\n",
       "      <td>Pekinese</td>\n",
       "      <td>0.000803</td>\n",
       "      <td>True</td>\n",
       "      <td>keeshond</td>\n",
       "      <td>0.000373</td>\n",
       "      <td>True</td>\n",
       "    </tr>\n",
       "    <tr>\n",
       "      <th>1152</th>\n",
       "      <td>732585889486888962</td>\n",
       "      <td>https://pbs.twimg.com/media/Ciqq-VFUUAANlWm.jpg</td>\n",
       "      <td>2</td>\n",
       "      <td>Staffordshire_bullterrier</td>\n",
       "      <td>0.843359</td>\n",
       "      <td>True</td>\n",
       "      <td>American_Staffordshire_terrier</td>\n",
       "      <td>0.028290</td>\n",
       "      <td>True</td>\n",
       "      <td>miniature_pinscher</td>\n",
       "      <td>0.016793</td>\n",
       "      <td>True</td>\n",
       "    </tr>\n",
       "  </tbody>\n",
       "</table>\n",
       "</div>"
      ],
      "text/plain": [
       "                tweet_id                                          jpg_url  \\\n",
       "189   669375718304980992  https://pbs.twimg.com/media/CUoZqaqWcAAA2MQ.jpg   \n",
       "260   670783437142401025  https://pbs.twimg.com/media/CU8Z-OxXAAA-sd2.jpg   \n",
       "615   680176173301628928  https://pbs.twimg.com/media/CXB4nWnWEAAhLTX.jpg   \n",
       "750   687826841265172480  https://pbs.twimg.com/media/CYum3KbWEAArFrI.jpg   \n",
       "1152  732585889486888962  https://pbs.twimg.com/media/Ciqq-VFUUAANlWm.jpg   \n",
       "\n",
       "      img_num                         p1   p1_conf  p1_dog  \\\n",
       "189         1                   Airedale  0.168762    True   \n",
       "260         1                   lacewing  0.381955   False   \n",
       "615         1         Christmas_stocking  0.207547   False   \n",
       "750         1                 Pomeranian  0.997210    True   \n",
       "1152        2  Staffordshire_bullterrier  0.843359    True   \n",
       "\n",
       "                                  p2   p2_conf  p2_dog                  p3  \\\n",
       "189                  Norfolk_terrier  0.107479    True    Lakeland_terrier   \n",
       "260                sulphur_butterfly  0.106810   False          leafhopper   \n",
       "615                             mask  0.193880   False         feather_boa   \n",
       "750                         Pekinese  0.000803    True            keeshond   \n",
       "1152  American_Staffordshire_terrier  0.028290    True  miniature_pinscher   \n",
       "\n",
       "       p3_conf  p3_dog  \n",
       "189   0.097846    True  \n",
       "260   0.068347   False  \n",
       "615   0.152738   False  \n",
       "750   0.000373    True  \n",
       "1152  0.016793    True  "
      ]
     },
     "execution_count": 23,
     "metadata": {},
     "output_type": "execute_result"
    }
   ],
   "source": [
    "df_preds.sample(5)"
   ]
  },
  {
   "cell_type": "code",
   "execution_count": 24,
   "metadata": {},
   "outputs": [
    {
     "data": {
      "text/html": [
       "<div>\n",
       "<style>\n",
       "    .dataframe thead tr:only-child th {\n",
       "        text-align: right;\n",
       "    }\n",
       "\n",
       "    .dataframe thead th {\n",
       "        text-align: left;\n",
       "    }\n",
       "\n",
       "    .dataframe tbody tr th {\n",
       "        vertical-align: top;\n",
       "    }\n",
       "</style>\n",
       "<table border=\"1\" class=\"dataframe\">\n",
       "  <thead>\n",
       "    <tr style=\"text-align: right;\">\n",
       "      <th></th>\n",
       "      <th>tweet_id</th>\n",
       "      <th>jpg_url</th>\n",
       "      <th>img_num</th>\n",
       "      <th>p1</th>\n",
       "      <th>p1_conf</th>\n",
       "      <th>p1_dog</th>\n",
       "      <th>p2</th>\n",
       "      <th>p2_conf</th>\n",
       "      <th>p2_dog</th>\n",
       "      <th>p3</th>\n",
       "      <th>p3_conf</th>\n",
       "      <th>p3_dog</th>\n",
       "    </tr>\n",
       "  </thead>\n",
       "  <tbody>\n",
       "    <tr>\n",
       "      <th>2070</th>\n",
       "      <td>891327558926688256</td>\n",
       "      <td>https://pbs.twimg.com/media/DF6hr6BUMAAzZgT.jpg</td>\n",
       "      <td>2</td>\n",
       "      <td>basset</td>\n",
       "      <td>0.555712</td>\n",
       "      <td>True</td>\n",
       "      <td>English_springer</td>\n",
       "      <td>0.225770</td>\n",
       "      <td>True</td>\n",
       "      <td>German_short-haired_pointer</td>\n",
       "      <td>0.175219</td>\n",
       "      <td>True</td>\n",
       "    </tr>\n",
       "    <tr>\n",
       "      <th>2071</th>\n",
       "      <td>891689557279858688</td>\n",
       "      <td>https://pbs.twimg.com/media/DF_q7IAWsAEuuN8.jpg</td>\n",
       "      <td>1</td>\n",
       "      <td>paper_towel</td>\n",
       "      <td>0.170278</td>\n",
       "      <td>False</td>\n",
       "      <td>Labrador_retriever</td>\n",
       "      <td>0.168086</td>\n",
       "      <td>True</td>\n",
       "      <td>spatula</td>\n",
       "      <td>0.040836</td>\n",
       "      <td>False</td>\n",
       "    </tr>\n",
       "    <tr>\n",
       "      <th>2072</th>\n",
       "      <td>891815181378084864</td>\n",
       "      <td>https://pbs.twimg.com/media/DGBdLU1WsAANxJ9.jpg</td>\n",
       "      <td>1</td>\n",
       "      <td>Chihuahua</td>\n",
       "      <td>0.716012</td>\n",
       "      <td>True</td>\n",
       "      <td>malamute</td>\n",
       "      <td>0.078253</td>\n",
       "      <td>True</td>\n",
       "      <td>kelpie</td>\n",
       "      <td>0.031379</td>\n",
       "      <td>True</td>\n",
       "    </tr>\n",
       "    <tr>\n",
       "      <th>2073</th>\n",
       "      <td>892177421306343426</td>\n",
       "      <td>https://pbs.twimg.com/media/DGGmoV4XsAAUL6n.jpg</td>\n",
       "      <td>1</td>\n",
       "      <td>Chihuahua</td>\n",
       "      <td>0.323581</td>\n",
       "      <td>True</td>\n",
       "      <td>Pekinese</td>\n",
       "      <td>0.090647</td>\n",
       "      <td>True</td>\n",
       "      <td>papillon</td>\n",
       "      <td>0.068957</td>\n",
       "      <td>True</td>\n",
       "    </tr>\n",
       "    <tr>\n",
       "      <th>2074</th>\n",
       "      <td>892420643555336193</td>\n",
       "      <td>https://pbs.twimg.com/media/DGKD1-bXoAAIAUK.jpg</td>\n",
       "      <td>1</td>\n",
       "      <td>orange</td>\n",
       "      <td>0.097049</td>\n",
       "      <td>False</td>\n",
       "      <td>bagel</td>\n",
       "      <td>0.085851</td>\n",
       "      <td>False</td>\n",
       "      <td>banana</td>\n",
       "      <td>0.076110</td>\n",
       "      <td>False</td>\n",
       "    </tr>\n",
       "  </tbody>\n",
       "</table>\n",
       "</div>"
      ],
      "text/plain": [
       "                tweet_id                                          jpg_url  \\\n",
       "2070  891327558926688256  https://pbs.twimg.com/media/DF6hr6BUMAAzZgT.jpg   \n",
       "2071  891689557279858688  https://pbs.twimg.com/media/DF_q7IAWsAEuuN8.jpg   \n",
       "2072  891815181378084864  https://pbs.twimg.com/media/DGBdLU1WsAANxJ9.jpg   \n",
       "2073  892177421306343426  https://pbs.twimg.com/media/DGGmoV4XsAAUL6n.jpg   \n",
       "2074  892420643555336193  https://pbs.twimg.com/media/DGKD1-bXoAAIAUK.jpg   \n",
       "\n",
       "      img_num           p1   p1_conf  p1_dog                  p2   p2_conf  \\\n",
       "2070        2       basset  0.555712    True    English_springer  0.225770   \n",
       "2071        1  paper_towel  0.170278   False  Labrador_retriever  0.168086   \n",
       "2072        1    Chihuahua  0.716012    True            malamute  0.078253   \n",
       "2073        1    Chihuahua  0.323581    True            Pekinese  0.090647   \n",
       "2074        1       orange  0.097049   False               bagel  0.085851   \n",
       "\n",
       "      p2_dog                           p3   p3_conf  p3_dog  \n",
       "2070    True  German_short-haired_pointer  0.175219    True  \n",
       "2071    True                      spatula  0.040836   False  \n",
       "2072    True                       kelpie  0.031379    True  \n",
       "2073    True                     papillon  0.068957    True  \n",
       "2074   False                       banana  0.076110   False  "
      ]
     },
     "execution_count": 24,
     "metadata": {},
     "output_type": "execute_result"
    }
   ],
   "source": [
    "df_preds.tail()"
   ]
  },
  {
   "cell_type": "markdown",
   "metadata": {},
   "source": [
    "The outputs above show only one particular issue in prediction data, that of the tweet id being of integer datatype, as was previously noted also for the enchanced tweet data.\n",
    "\n",
    "While the quality and tidiness for all of the individual dataframes has now been assessed, a final assessment concerning the structure of all the data at hand should be made. We have here basically two observational units, the dogs themselves and the tweets posted about them. Attributes belonging to the dogs include name, stage, rating, predictions about the breed, and the dog image. Tweet attributes, on the other hand, include timestamp, number of retweets and likes, the tweet text itself, as well as more technical attributes of the tweets such as expanded urls and the tweet source. So the different variables across these three dataframes should be rearranged into two dataframes that divide the variables clearly by their observational units.\n",
    "\n",
    "To summarize, following issues that need cleaning have been noted in the data:\n",
    "\n",
    "**Quality issues**\n",
    "* Tweet id in integer datatype in tweet and prediction dataframes \n",
    "* Timestamp not in datetime format\n",
    "* Dog stage variables not in categorical datatype\n",
    "* Name column including words that are not names (eg. ‘a’, ‘an’, ‘the’, ‘very’)\n",
    "* Dog name and stage columns denoting missing data with 'None' values instead of ‘NaN’\n",
    "* Rating numerator including several inappropriately high (20-1776) values\n",
    "* Rating denominator including several values other than 10\n",
    "* Tweet dataframe including a large number of retweets\n",
    "* Tweet dataframe including a large number of tweets that have no images\n",
    "\n",
    "**Tidiness issues**\n",
    "* Dog stages (doggo, puppo, pupper, floofer) classified into separate variables\n",
    "* Information about two different observational units - ie. the tweets and the dogs themselves - scattered across three different dataframes"
   ]
  },
  {
   "cell_type": "markdown",
   "metadata": {},
   "source": [
    "<a id = 'clean'></a>\n",
    "\n",
    "## Cleaning data\n",
    "\n",
    "Moving on to cleaning the data of the issues identified above, the first step is to make copies of the dataframes to be used in the cleaning operation. After that the various issues in the data can be tackled - some several, some just one at a time."
   ]
  },
  {
   "cell_type": "code",
   "execution_count": 25,
   "metadata": {
    "collapsed": true
   },
   "outputs": [],
   "source": [
    "df_tweets_clean = df_tweets.copy()\n",
    "\n",
    "df_likes_clean = df_likes.copy()\n",
    "\n",
    "df_preds_clean = df_preds.copy()"
   ]
  },
  {
   "cell_type": "markdown",
   "metadata": {},
   "source": [
    "**Issue:** tweet id has integer datatype in df_tweets and df_preds\n",
    "\n",
    "**Define:** convert tweet ids to strings with `.astype()`\n",
    "\n",
    "**Code:**"
   ]
  },
  {
   "cell_type": "code",
   "execution_count": 26,
   "metadata": {
    "collapsed": true
   },
   "outputs": [],
   "source": [
    "df_tweets_clean.tweet_id = df_tweets_clean.tweet_id.astype(str)\n",
    "\n",
    "df_preds_clean.tweet_id = df_preds_clean.tweet_id.astype(str)"
   ]
  },
  {
   "cell_type": "markdown",
   "metadata": {},
   "source": [
    "**Issue:** timestamp is not in datetime format\n",
    "\n",
    "**Define:** convert timestamp to datetime using `pd.to_datetime()`\n",
    "\n",
    "**Code:**"
   ]
  },
  {
   "cell_type": "code",
   "execution_count": 27,
   "metadata": {
    "collapsed": true
   },
   "outputs": [],
   "source": [
    "df_tweets_clean.timestamp = pd.to_datetime(df_tweets_clean.timestamp)"
   ]
  },
  {
   "cell_type": "markdown",
   "metadata": {},
   "source": [
    "**Issue:** data includes a large number of retweets and tweets without images\n",
    "\n",
    "**Define:** filter out retweets by applying `.isnull()` on the **`retweeted_status_id`** column and imageless tweets by applying `.notnull()` on **`expanded_urls`** column, which stores image tweet urls\n",
    "\n",
    "**Code:**"
   ]
  },
  {
   "cell_type": "code",
   "execution_count": 28,
   "metadata": {
    "collapsed": true
   },
   "outputs": [],
   "source": [
    "df_tweets_clean = df_tweets_clean[df_tweets_clean.retweeted_status_id.isnull()]\n",
    "\n",
    "df_tweets_clean = df_tweets_clean[df_tweets_clean.expanded_urls.notnull()]"
   ]
  },
  {
   "cell_type": "markdown",
   "metadata": {},
   "source": [
    "**Test:** let's have a test output of `.info()` to see if the previous issues were cleaned correctly"
   ]
  },
  {
   "cell_type": "code",
   "execution_count": 29,
   "metadata": {},
   "outputs": [
    {
     "name": "stdout",
     "output_type": "stream",
     "text": [
      "<class 'pandas.core.frame.DataFrame'>\n",
      "Int64Index: 2117 entries, 0 to 2355\n",
      "Data columns (total 17 columns):\n",
      "tweet_id                      2117 non-null object\n",
      "in_reply_to_status_id         23 non-null float64\n",
      "in_reply_to_user_id           23 non-null float64\n",
      "timestamp                     2117 non-null datetime64[ns]\n",
      "source                        2117 non-null object\n",
      "text                          2117 non-null object\n",
      "retweeted_status_id           0 non-null float64\n",
      "retweeted_status_user_id      0 non-null float64\n",
      "retweeted_status_timestamp    0 non-null object\n",
      "expanded_urls                 2117 non-null object\n",
      "rating_numerator              2117 non-null int64\n",
      "rating_denominator            2117 non-null int64\n",
      "name                          2117 non-null object\n",
      "doggo                         2117 non-null object\n",
      "floofer                       2117 non-null object\n",
      "pupper                        2117 non-null object\n",
      "puppo                         2117 non-null object\n",
      "dtypes: datetime64[ns](1), float64(4), int64(2), object(10)\n",
      "memory usage: 297.7+ KB\n"
     ]
    }
   ],
   "source": [
    "df_tweets_clean.info()"
   ]
  },
  {
   "cell_type": "code",
   "execution_count": 30,
   "metadata": {},
   "outputs": [
    {
     "name": "stdout",
     "output_type": "stream",
     "text": [
      "<class 'pandas.core.frame.DataFrame'>\n",
      "RangeIndex: 2075 entries, 0 to 2074\n",
      "Data columns (total 12 columns):\n",
      "tweet_id    2075 non-null object\n",
      "jpg_url     2075 non-null object\n",
      "img_num     2075 non-null int64\n",
      "p1          2075 non-null object\n",
      "p1_conf     2075 non-null float64\n",
      "p1_dog      2075 non-null bool\n",
      "p2          2075 non-null object\n",
      "p2_conf     2075 non-null float64\n",
      "p2_dog      2075 non-null bool\n",
      "p3          2075 non-null object\n",
      "p3_conf     2075 non-null float64\n",
      "p3_dog      2075 non-null bool\n",
      "dtypes: bool(3), float64(3), int64(1), object(5)\n",
      "memory usage: 152.1+ KB\n"
     ]
    }
   ],
   "source": [
    "df_preds_clean.info()"
   ]
  },
  {
   "cell_type": "markdown",
   "metadata": {},
   "source": [
    "<br>\n",
    "\n",
    "**Issue:** rating numerator has several inappropriately high values and rating denominator has values other than 10\n",
    "\n",
    "**Define:** these are trickier issues than the previous ones, so let's start by taking a closer look at the tweets with rating denominator other than 10."
   ]
  },
  {
   "cell_type": "code",
   "execution_count": 31,
   "metadata": {},
   "outputs": [
    {
     "name": "stdout",
     "output_type": "stream",
     "text": [
      "The floofs have been released I repeat the floofs have been released. 84/70 https://t.co/NIYC820tmd\n",
      "\n",
      "Meet Sam. She smiles 24/7 &amp; secretly aspires to be a reindeer. \n",
      "Keep Sam smiling by clicking and sharing this link:\n",
      "https://t.co/98tB8y7y7t https://t.co/LouL5vdvxx\n",
      "\n",
      "Why does this never happen at my front door... 165/150 https://t.co/HmwrdfEfUE\n",
      "\n",
      "After so many requests, this is Bretagne. She was the last surviving 9/11 search dog, and our second ever 14/10. RIP https://t.co/XAVDNDaVgQ\n",
      "\n",
      "Say hello to this unbelievably well behaved squad of doggos. 204/170 would try to pet all at once https://t.co/yGQI3He3xv\n",
      "\n",
      "Happy 4/20 from the squad! 13/10 for all https://t.co/eV1diwds8a\n",
      "\n",
      "This is Bluebert. He just saw that both #FinalFur match ups are split 50/50. Amazed af. 11/10 https://t.co/Kky1DPG4iq\n",
      "\n",
      "Happy Saturday here's 9 puppers on a bench. 99/90 good work everybody https://t.co/mpvaVxKmc1\n",
      "\n",
      "Here's a brigade of puppers. All look very prepared for whatever happens next. 80/80 https://t.co/0eb7R1Om12\n",
      "\n",
      "From left to right:\n",
      "Cletus, Jerome, Alejandro, Burp, &amp; Titson\n",
      "None know where camera is. 45/50 would hug all at once https://t.co/sedre1ivTK\n",
      "\n",
      "Here is a whole flock of puppers.  60/50 I'll take the lot https://t.co/9dpcw6MdWa\n",
      "\n",
      "Happy Wednesday here's a bucket of pups. 44/40 would pet all at once https://t.co/HppvrYuamZ\n",
      "\n",
      "Two sneaky puppers were not initially seen, moving the rating to 143/130. Please forgive us. Thank you https://t.co/kRK51Y5ac3\n",
      "\n",
      "Someone help the girl is being mugged. Several are distracting her while two steal her shoes. Clever puppers 121/110 https://t.co/1zfnTJLt55\n",
      "\n",
      "This is Darrel. He just robbed a 7/11 and is in a high speed police chase. Was just spotted by the helicopter 10/10 https://t.co/7EsP8LmSp5\n",
      "\n",
      "IT'S PUPPERGEDDON. Total of 144/120 ...I think https://t.co/ZanVtAtvIq\n",
      "\n",
      "Here we have an entire platoon of puppers. Total score: 88/80 would pet all at once https://t.co/y93p6FLvVw\n",
      "\n",
      "This is an Albanian 3 1/2 legged  Episcopalian. Loves well-polished hardwood flooring. Penis on the collar. 9/10 https://t.co/d9NcXFKwLv\n",
      "\n"
     ]
    }
   ],
   "source": [
    "for _ in df_tweets_clean.text[df_tweets_clean['rating_denominator'] != 10]:\n",
    "    print(_ + '\\n')"
   ]
  },
  {
   "cell_type": "markdown",
   "metadata": {},
   "source": [
    "Taking a look at the tweets printed above, most anomalous rating denominator and numerator values seem to show up in tweets with multiple dogs where both numerator and denominator have been multiplied by the number of dogs. These cases can be corrected with simple recalculation, while denominator values not divisible by 10 can be assigned 'NaN' values.\n",
    "\n",
    "**Code:**"
   ]
  },
  {
   "cell_type": "code",
   "execution_count": 32,
   "metadata": {
    "collapsed": true
   },
   "outputs": [],
   "source": [
    "# setting denominator values of 0 to 'NaN' also to avoid errors\n",
    "\n",
    "df_tweets_clean.rating_denominator = df_tweets_clean.rating_denominator.apply(lambda x:\n",
    "                                                                            np.nan if x == 0 else\n",
    "                                                                            np.nan if x % 10 != 0 else x)\n",
    "\n",
    "df_tweets_clean.rating_numerator = df_tweets_clean.rating_numerator / (df_tweets_clean.rating_denominator / 10)"
   ]
  },
  {
   "cell_type": "markdown",
   "metadata": {},
   "source": [
    "**Test:** use `.value_counts()` to check if the are anomalous rating numerator values left in the data."
   ]
  },
  {
   "cell_type": "code",
   "execution_count": 33,
   "metadata": {},
   "outputs": [
    {
     "data": {
      "text/plain": [
       "12.0      493\n",
       "10.0      438\n",
       "11.0      423\n",
       "13.0      295\n",
       "9.0       154\n",
       "8.0        98\n",
       "7.0        51\n",
       "14.0       40\n",
       "5.0        34\n",
       "6.0        32\n",
       "3.0        19\n",
       "4.0        15\n",
       "2.0        10\n",
       "1.0         4\n",
       "0.0         2\n",
       "27.0        1\n",
       "1776.0      1\n",
       "26.0        1\n",
       "420.0       1\n",
       "75.0        1\n",
       "Name: rating_numerator, dtype: int64"
      ]
     },
     "execution_count": 33,
     "metadata": {},
     "output_type": "execute_result"
    }
   ],
   "source": [
    "df_tweets_clean.rating_numerator.value_counts()"
   ]
  },
  {
   "cell_type": "markdown",
   "metadata": {},
   "source": [
    "**Issue:** still some anomalously high ratings (> 20) left in the data\n",
    "\n",
    "**Define:** convert said ratings into 'NaN' values using `.apply()` and `np.nan`.\n",
    "\n",
    "**Code:**"
   ]
  },
  {
   "cell_type": "code",
   "execution_count": 34,
   "metadata": {
    "collapsed": true
   },
   "outputs": [],
   "source": [
    "df_tweets_clean.rating_numerator = df_tweets_clean.rating_numerator.apply(lambda x:\n",
    "                                                                        np.nan if x > 20 else x)"
   ]
  },
  {
   "cell_type": "markdown",
   "metadata": {},
   "source": [
    "**Test:** use `.value_counts()` to see if the ratings are now in line with their expected range"
   ]
  },
  {
   "cell_type": "code",
   "execution_count": 35,
   "metadata": {},
   "outputs": [
    {
     "data": {
      "text/plain": [
       "12.0    493\n",
       "10.0    438\n",
       "11.0    423\n",
       "13.0    295\n",
       "9.0     154\n",
       "8.0      98\n",
       "7.0      51\n",
       "14.0     40\n",
       "5.0      34\n",
       "6.0      32\n",
       "3.0      19\n",
       "4.0      15\n",
       "2.0      10\n",
       "1.0       4\n",
       "0.0       2\n",
       "Name: rating_numerator, dtype: int64"
      ]
     },
     "execution_count": 35,
     "metadata": {},
     "output_type": "execute_result"
    }
   ],
   "source": [
    "df_tweets_clean.rating_numerator.value_counts()"
   ]
  },
  {
   "cell_type": "markdown",
   "metadata": {},
   "source": [
    "**Issue:** the above-10 rating denominator that are divisible by 10 are still in the data\n",
    "\n",
    "**Define:** convert remaining above-10 denominator values into tens using `.apply()`\n",
    "\n",
    "**Code:**"
   ]
  },
  {
   "cell_type": "code",
   "execution_count": 36,
   "metadata": {
    "collapsed": true
   },
   "outputs": [],
   "source": [
    "df_tweets_clean.rating_denominator = df_tweets_clean.rating_denominator.apply(lambda x: 10 if x % 10 == 0 else x)"
   ]
  },
  {
   "cell_type": "markdown",
   "metadata": {},
   "source": [
    "**Test:** use `.value_counts()` to check that there are no more non-10 rating denominator values left in the dataframe"
   ]
  },
  {
   "cell_type": "code",
   "execution_count": 37,
   "metadata": {},
   "outputs": [
    {
     "data": {
      "text/plain": [
       "10.0    2113\n",
       "Name: rating_denominator, dtype: int64"
      ]
     },
     "execution_count": 37,
     "metadata": {},
     "output_type": "execute_result"
    }
   ],
   "source": [
    "df_tweets_clean.rating_denominator.value_counts()"
   ]
  },
  {
   "cell_type": "markdown",
   "metadata": {},
   "source": [
    "<br>\n",
    "\n",
    "**Issue:** dog stages are classified into separate variables, the dog stage variables denote missing data with 'None' values and the dog stage isn't in categorical datatype\n",
    "\n",
    "**Define:** reassign different dog stages into one variable using `.combine()`, replace 'None' values with 'NaN' values and convert the resulting variable into categorical datatype\n",
    "\n",
    "**Code:**"
   ]
  },
  {
   "cell_type": "code",
   "execution_count": 38,
   "metadata": {
    "collapsed": true
   },
   "outputs": [],
   "source": [
    "# using 'doggo' column as baseline, first combine all other dog stages into that column,\n",
    "# then copy the final value distribution into new column\n",
    "\n",
    "df_tweets_clean.doggo = df_tweets_clean['doggo'].combine(df_tweets_clean['floofer'],\n",
    "                                                         lambda s1, s2: s2 if s1 == 'None' else s1)\n",
    "\n",
    "df_tweets_clean.doggo = df_tweets_clean['doggo'].combine(df_tweets_clean['pupper'],\n",
    "                                                         lambda s1, s2: s2 if s1 == 'None' else s1)\n",
    "\n",
    "df_tweets_clean.doggo = df_tweets_clean['doggo'].combine(df_tweets_clean['puppo'],\n",
    "                                                         lambda s1, s2: s2 if s1 == 'None' else s1)\n",
    "\n",
    "df_tweets_clean['dog_stage'] = df_tweets_clean['doggo']\n",
    "\n",
    "df_tweets_clean.dog_stage.replace(to_replace = 'None', value = np.nan, inplace = True)\n",
    "\n",
    "df_tweets_clean.dog_stage = df_tweets_clean.dog_stage.astype('category')"
   ]
  },
  {
   "cell_type": "markdown",
   "metadata": {},
   "source": [
    "**Test:** using `.value_counts()` and `.dtypes` to see if the dog stage variable has right kind of values and the right datatype"
   ]
  },
  {
   "cell_type": "code",
   "execution_count": 39,
   "metadata": {},
   "outputs": [
    {
     "data": {
      "text/plain": [
       "pupper     222\n",
       "doggo       84\n",
       "puppo       23\n",
       "floofer      9\n",
       "Name: dog_stage, dtype: int64"
      ]
     },
     "execution_count": 39,
     "metadata": {},
     "output_type": "execute_result"
    }
   ],
   "source": [
    "df_tweets_clean.dog_stage.value_counts()"
   ]
  },
  {
   "cell_type": "code",
   "execution_count": 40,
   "metadata": {},
   "outputs": [
    {
     "data": {
      "text/plain": [
       "category"
      ]
     },
     "execution_count": 40,
     "metadata": {},
     "output_type": "execute_result"
    }
   ],
   "source": [
    "df_tweets_clean.dog_stage.dtypes"
   ]
  },
  {
   "cell_type": "markdown",
   "metadata": {},
   "source": [
    "<br>\n",
    "\n",
    "**Issue:** name column includes words that are not names and denotes missing data with 'None' values\n",
    "\n",
    "**Define:** replace non-name words and 'None' values with 'NaN' values using `.apply()` and `.replace()`\n",
    "\n",
    "**Code:**"
   ]
  },
  {
   "cell_type": "code",
   "execution_count": 41,
   "metadata": {
    "collapsed": true
   },
   "outputs": [],
   "source": [
    "# using .islower() to filter non-titlecased words for value reassignment\n",
    "\n",
    "df_tweets_clean.name = df_tweets_clean.name.apply(lambda x: np.nan if x.islower() else x)\n",
    "\n",
    "df_tweets_clean.name.replace(to_replace = 'None', value = np.nan, inplace = True)"
   ]
  },
  {
   "cell_type": "markdown",
   "metadata": {},
   "source": [
    "**Test:** using `.value_counts()` to check that there are no more non-name words or 'None' values in the name column"
   ]
  },
  {
   "cell_type": "code",
   "execution_count": 42,
   "metadata": {},
   "outputs": [
    {
     "data": {
      "text/plain": [
       "Lucy         11\n",
       "Charlie      11\n",
       "Oliver       10\n",
       "Cooper       10\n",
       "Tucker        9\n",
       "Penny         9\n",
       "Lola          8\n",
       "Winston       8\n",
       "Sadie         8\n",
       "Toby          7\n",
       "Daisy         7\n",
       "Koda          6\n",
       "Oscar         6\n",
       "Jax           6\n",
       "Bo            6\n",
       "Bella         6\n",
       "Bailey        6\n",
       "Stanley       6\n",
       "Rusty         5\n",
       "Chester       5\n",
       "Milo          5\n",
       "Louis         5\n",
       "Bentley       5\n",
       "Dave          5\n",
       "Buddy         5\n",
       "Scout         5\n",
       "Leo           5\n",
       "Winnie        4\n",
       "Dexter        4\n",
       "Bear          4\n",
       "             ..\n",
       "Genevieve     1\n",
       "Cali          1\n",
       "Lizzie        1\n",
       "Iroh          1\n",
       "Link          1\n",
       "Sunshine      1\n",
       "Holly         1\n",
       "Poppy         1\n",
       "Rose          1\n",
       "Simba         1\n",
       "Duddles       1\n",
       "Sailor        1\n",
       "Barney        1\n",
       "Stormy        1\n",
       "Rilo          1\n",
       "Alexander     1\n",
       "Shadoe        1\n",
       "Tess          1\n",
       "Cupid         1\n",
       "Freddery      1\n",
       "Mona          1\n",
       "Kendall       1\n",
       "Mollie        1\n",
       "Jimbo         1\n",
       "Hanz          1\n",
       "Jebberson     1\n",
       "Sephie        1\n",
       "Grizzwald     1\n",
       "Charleson     1\n",
       "Orion         1\n",
       "Name: name, Length: 930, dtype: int64"
      ]
     },
     "execution_count": 42,
     "metadata": {},
     "output_type": "execute_result"
    }
   ],
   "source": [
    "df_tweets_clean.name.value_counts()"
   ]
  },
  {
   "cell_type": "markdown",
   "metadata": {},
   "source": [
    "<br>\n",
    "\n",
    "**Issue:** information about different observational units is scattered across three different dataframes\n",
    "\n",
    "**Define:** merge df_likes dataframe with df_tweets, then merge dog attributes from df_tweets into a new dataframe with prediction data, finish by dropping dog attributes and stages from df_tweets\n",
    "\n",
    "**Code:**"
   ]
  },
  {
   "cell_type": "code",
   "execution_count": 43,
   "metadata": {
    "collapsed": true
   },
   "outputs": [],
   "source": [
    "df_tweets_clean = df_tweets_clean.merge(df_likes_clean, how = 'left', on = 'tweet_id')\n",
    "\n",
    "dog_attributes = ['tweet_id', 'name', 'dog_stage', 'rating_numerator', 'rating_denominator']\n",
    "\n",
    "df_dogs_clean = df_tweets_clean[dog_attributes].merge(df_preds_clean, how = 'outer', on = 'tweet_id')\n",
    "\n",
    "df_tweets_clean.drop(labels = dog_attributes[1:], axis = 1, inplace = True)\n",
    "\n",
    "# dropping also redundant dog stage variables at this point\n",
    "df_tweets_clean.drop(labels = ['doggo', 'floofer', 'pupper', 'puppo'], axis = 1, inplace = True)"
   ]
  },
  {
   "cell_type": "markdown",
   "metadata": {},
   "source": [
    "**Test:** use `.info()` to check if the different variables have been divided up correctly between the dataframes"
   ]
  },
  {
   "cell_type": "code",
   "execution_count": 44,
   "metadata": {},
   "outputs": [
    {
     "name": "stdout",
     "output_type": "stream",
     "text": [
      "<class 'pandas.core.frame.DataFrame'>\n",
      "Int64Index: 4234 entries, 0 to 4233\n",
      "Data columns (total 12 columns):\n",
      "tweet_id                      4234 non-null object\n",
      "in_reply_to_status_id         46 non-null float64\n",
      "in_reply_to_user_id           46 non-null float64\n",
      "timestamp                     4234 non-null datetime64[ns]\n",
      "source                        4234 non-null object\n",
      "text                          4234 non-null object\n",
      "retweeted_status_id           0 non-null float64\n",
      "retweeted_status_user_id      0 non-null float64\n",
      "retweeted_status_timestamp    0 non-null object\n",
      "expanded_urls                 4234 non-null object\n",
      "retweets                      4234 non-null int64\n",
      "likes                         4234 non-null int64\n",
      "dtypes: datetime64[ns](1), float64(4), int64(2), object(5)\n",
      "memory usage: 430.0+ KB\n"
     ]
    }
   ],
   "source": [
    "df_tweets_clean.info()"
   ]
  },
  {
   "cell_type": "code",
   "execution_count": 45,
   "metadata": {},
   "outputs": [
    {
     "name": "stdout",
     "output_type": "stream",
     "text": [
      "<class 'pandas.core.frame.DataFrame'>\n",
      "Int64Index: 4315 entries, 0 to 4314\n",
      "Data columns (total 16 columns):\n",
      "tweet_id              4315 non-null object\n",
      "name                  2782 non-null object\n",
      "dog_stage             676 non-null category\n",
      "rating_numerator      4216 non-null float64\n",
      "rating_denominator    4226 non-null float64\n",
      "jpg_url               4069 non-null object\n",
      "img_num               4069 non-null float64\n",
      "p1                    4069 non-null object\n",
      "p1_conf               4069 non-null float64\n",
      "p1_dog                4069 non-null object\n",
      "p2                    4069 non-null object\n",
      "p2_conf               4069 non-null float64\n",
      "p2_dog                4069 non-null object\n",
      "p3                    4069 non-null object\n",
      "p3_conf               4069 non-null float64\n",
      "p3_dog                4069 non-null object\n",
      "dtypes: category(1), float64(6), object(9)\n",
      "memory usage: 543.8+ KB\n"
     ]
    }
   ],
   "source": [
    "df_dogs_clean.info()"
   ]
  },
  {
   "cell_type": "markdown",
   "metadata": {},
   "source": [
    "<a id = 'store'></a>\n",
    "\n",
    "### Storing, analyzing, and visualizing data\n",
    "\n",
    "Now that the data has been cleaned it can be stored using the `.to_csv()` function. Also some analyses and visualizations from the data are in order."
   ]
  },
  {
   "cell_type": "code",
   "execution_count": 46,
   "metadata": {
    "collapsed": true
   },
   "outputs": [],
   "source": [
    "# setting index = False so there won't be\n",
    "# redundant index columns in the data\n",
    "\n",
    "df_tweets_clean.to_csv('twitter_archive_master.csv', index = False)\n",
    "\n",
    "df_dogs_clean.to_csv('twitter_dog_attributes.csv', index = False)"
   ]
  },
  {
   "cell_type": "code",
   "execution_count": 47,
   "metadata": {
    "collapsed": true
   },
   "outputs": [],
   "source": [
    "# making a joint dataframe for\n",
    "# analysis and visualization\n",
    "\n",
    "df = df_tweets_clean.merge(df_dogs_clean, how = 'outer', on = 'tweet_id')\n",
    "\n",
    "# invoking 'magic word' so visualizations\n",
    "# made will show up in output\n",
    "\n",
    "% matplotlib inline"
   ]
  },
  {
   "cell_type": "markdown",
   "metadata": {},
   "source": [
    "One thing that interests me is how the popularity of WeRateDogs has developed during the it has been active, so let's take a look at the retweet and like counts received by WeRateDogs tweets on yearly level."
   ]
  },
  {
   "cell_type": "code",
   "execution_count": 48,
   "metadata": {},
   "outputs": [
    {
     "data": {
      "text/html": [
       "<div>\n",
       "<style>\n",
       "    .dataframe thead tr:only-child th {\n",
       "        text-align: right;\n",
       "    }\n",
       "\n",
       "    .dataframe thead th {\n",
       "        text-align: left;\n",
       "    }\n",
       "\n",
       "    .dataframe tbody tr th {\n",
       "        vertical-align: top;\n",
       "    }\n",
       "</style>\n",
       "<table border=\"1\" class=\"dataframe\">\n",
       "  <thead>\n",
       "    <tr style=\"text-align: right;\">\n",
       "      <th></th>\n",
       "      <th>count</th>\n",
       "      <th>mean</th>\n",
       "      <th>std</th>\n",
       "      <th>min</th>\n",
       "      <th>25%</th>\n",
       "      <th>50%</th>\n",
       "      <th>75%</th>\n",
       "      <th>max</th>\n",
       "    </tr>\n",
       "    <tr>\n",
       "      <th>timestamp</th>\n",
       "      <th></th>\n",
       "      <th></th>\n",
       "      <th></th>\n",
       "      <th></th>\n",
       "      <th></th>\n",
       "      <th></th>\n",
       "      <th></th>\n",
       "      <th></th>\n",
       "    </tr>\n",
       "  </thead>\n",
       "  <tbody>\n",
       "    <tr>\n",
       "      <th>2015.0</th>\n",
       "      <td>2704.0</td>\n",
       "      <td>1102.259615</td>\n",
       "      <td>2625.265616</td>\n",
       "      <td>13.0</td>\n",
       "      <td>244.0</td>\n",
       "      <td>498.5</td>\n",
       "      <td>969.0</td>\n",
       "      <td>33915.0</td>\n",
       "    </tr>\n",
       "    <tr>\n",
       "      <th>2016.0</th>\n",
       "      <td>4256.0</td>\n",
       "      <td>2777.273026</td>\n",
       "      <td>4765.818751</td>\n",
       "      <td>26.0</td>\n",
       "      <td>936.0</td>\n",
       "      <td>1546.0</td>\n",
       "      <td>2887.5</td>\n",
       "      <td>77886.0</td>\n",
       "    </tr>\n",
       "    <tr>\n",
       "      <th>2017.0</th>\n",
       "      <td>1508.0</td>\n",
       "      <td>5887.550398</td>\n",
       "      <td>5908.478473</td>\n",
       "      <td>454.0</td>\n",
       "      <td>2740.0</td>\n",
       "      <td>4220.0</td>\n",
       "      <td>6505.0</td>\n",
       "      <td>49509.0</td>\n",
       "    </tr>\n",
       "  </tbody>\n",
       "</table>\n",
       "</div>"
      ],
      "text/plain": [
       "            count         mean          std    min     25%     50%     75%  \\\n",
       "timestamp                                                                    \n",
       "2015.0     2704.0  1102.259615  2625.265616   13.0   244.0   498.5   969.0   \n",
       "2016.0     4256.0  2777.273026  4765.818751   26.0   936.0  1546.0  2887.5   \n",
       "2017.0     1508.0  5887.550398  5908.478473  454.0  2740.0  4220.0  6505.0   \n",
       "\n",
       "               max  \n",
       "timestamp           \n",
       "2015.0     33915.0  \n",
       "2016.0     77886.0  \n",
       "2017.0     49509.0  "
      ]
     },
     "execution_count": 48,
     "metadata": {},
     "output_type": "execute_result"
    }
   ],
   "source": [
    "df.retweets.groupby(df.timestamp.dt.year).describe()"
   ]
  },
  {
   "cell_type": "code",
   "execution_count": 49,
   "metadata": {},
   "outputs": [
    {
     "data": {
      "text/html": [
       "<div>\n",
       "<style>\n",
       "    .dataframe thead tr:only-child th {\n",
       "        text-align: right;\n",
       "    }\n",
       "\n",
       "    .dataframe thead th {\n",
       "        text-align: left;\n",
       "    }\n",
       "\n",
       "    .dataframe tbody tr th {\n",
       "        vertical-align: top;\n",
       "    }\n",
       "</style>\n",
       "<table border=\"1\" class=\"dataframe\">\n",
       "  <thead>\n",
       "    <tr style=\"text-align: right;\">\n",
       "      <th></th>\n",
       "      <th>count</th>\n",
       "      <th>mean</th>\n",
       "      <th>std</th>\n",
       "      <th>min</th>\n",
       "      <th>25%</th>\n",
       "      <th>50%</th>\n",
       "      <th>75%</th>\n",
       "      <th>max</th>\n",
       "    </tr>\n",
       "    <tr>\n",
       "      <th>timestamp</th>\n",
       "      <th></th>\n",
       "      <th></th>\n",
       "      <th></th>\n",
       "      <th></th>\n",
       "      <th></th>\n",
       "      <th></th>\n",
       "      <th></th>\n",
       "      <th></th>\n",
       "    </tr>\n",
       "  </thead>\n",
       "  <tbody>\n",
       "    <tr>\n",
       "      <th>2015.0</th>\n",
       "      <td>2704.0</td>\n",
       "      <td>2550.434172</td>\n",
       "      <td>5640.207486</td>\n",
       "      <td>80.0</td>\n",
       "      <td>642.25</td>\n",
       "      <td>1249.5</td>\n",
       "      <td>2350.00</td>\n",
       "      <td>79119.0</td>\n",
       "    </tr>\n",
       "    <tr>\n",
       "      <th>2016.0</th>\n",
       "      <td>4256.0</td>\n",
       "      <td>7709.257049</td>\n",
       "      <td>9374.708649</td>\n",
       "      <td>264.0</td>\n",
       "      <td>3034.75</td>\n",
       "      <td>4797.5</td>\n",
       "      <td>8871.75</td>\n",
       "      <td>128971.0</td>\n",
       "    </tr>\n",
       "    <tr>\n",
       "      <th>2017.0</th>\n",
       "      <td>1508.0</td>\n",
       "      <td>23825.188329</td>\n",
       "      <td>16738.046789</td>\n",
       "      <td>2503.0</td>\n",
       "      <td>13668.00</td>\n",
       "      <td>20566.5</td>\n",
       "      <td>28051.00</td>\n",
       "      <td>144058.0</td>\n",
       "    </tr>\n",
       "  </tbody>\n",
       "</table>\n",
       "</div>"
      ],
      "text/plain": [
       "            count          mean           std     min       25%      50%  \\\n",
       "timestamp                                                                  \n",
       "2015.0     2704.0   2550.434172   5640.207486    80.0    642.25   1249.5   \n",
       "2016.0     4256.0   7709.257049   9374.708649   264.0   3034.75   4797.5   \n",
       "2017.0     1508.0  23825.188329  16738.046789  2503.0  13668.00  20566.5   \n",
       "\n",
       "                75%       max  \n",
       "timestamp                      \n",
       "2015.0      2350.00   79119.0  \n",
       "2016.0      8871.75  128971.0  \n",
       "2017.0     28051.00  144058.0  "
      ]
     },
     "execution_count": 49,
     "metadata": {},
     "output_type": "execute_result"
    }
   ],
   "source": [
    "df.likes.groupby(df.timestamp.dt.year).describe()"
   ]
  },
  {
   "cell_type": "markdown",
   "metadata": {},
   "source": [
    "And the outputs above show very clear and strong rising trend for the popularity of WeRateDogs tweets. Another variable in the data that is particularly well-suited to straightforward analyses are the dog ratings, so let's see if there are any yearly-level changes in that numeric as well."
   ]
  },
  {
   "cell_type": "code",
   "execution_count": 50,
   "metadata": {},
   "outputs": [
    {
     "data": {
      "text/html": [
       "<div>\n",
       "<style>\n",
       "    .dataframe thead tr:only-child th {\n",
       "        text-align: right;\n",
       "    }\n",
       "\n",
       "    .dataframe thead th {\n",
       "        text-align: left;\n",
       "    }\n",
       "\n",
       "    .dataframe tbody tr th {\n",
       "        vertical-align: top;\n",
       "    }\n",
       "</style>\n",
       "<table border=\"1\" class=\"dataframe\">\n",
       "  <thead>\n",
       "    <tr style=\"text-align: right;\">\n",
       "      <th></th>\n",
       "      <th>count</th>\n",
       "      <th>mean</th>\n",
       "      <th>std</th>\n",
       "      <th>min</th>\n",
       "      <th>25%</th>\n",
       "      <th>50%</th>\n",
       "      <th>75%</th>\n",
       "      <th>max</th>\n",
       "    </tr>\n",
       "    <tr>\n",
       "      <th>timestamp</th>\n",
       "      <th></th>\n",
       "      <th></th>\n",
       "      <th></th>\n",
       "      <th></th>\n",
       "      <th></th>\n",
       "      <th></th>\n",
       "      <th></th>\n",
       "      <th></th>\n",
       "    </tr>\n",
       "  </thead>\n",
       "  <tbody>\n",
       "    <tr>\n",
       "      <th>2015.0</th>\n",
       "      <td>2692.0</td>\n",
       "      <td>9.331352</td>\n",
       "      <td>2.334084</td>\n",
       "      <td>1.0</td>\n",
       "      <td>8.0</td>\n",
       "      <td>10.0</td>\n",
       "      <td>11.0</td>\n",
       "      <td>13.0</td>\n",
       "    </tr>\n",
       "    <tr>\n",
       "      <th>2016.0</th>\n",
       "      <td>4232.0</td>\n",
       "      <td>10.786389</td>\n",
       "      <td>1.780093</td>\n",
       "      <td>0.0</td>\n",
       "      <td>10.0</td>\n",
       "      <td>11.0</td>\n",
       "      <td>12.0</td>\n",
       "      <td>14.0</td>\n",
       "    </tr>\n",
       "    <tr>\n",
       "      <th>2017.0</th>\n",
       "      <td>1508.0</td>\n",
       "      <td>12.419098</td>\n",
       "      <td>1.167785</td>\n",
       "      <td>0.0</td>\n",
       "      <td>12.0</td>\n",
       "      <td>13.0</td>\n",
       "      <td>13.0</td>\n",
       "      <td>14.0</td>\n",
       "    </tr>\n",
       "  </tbody>\n",
       "</table>\n",
       "</div>"
      ],
      "text/plain": [
       "            count       mean       std  min   25%   50%   75%   max\n",
       "timestamp                                                          \n",
       "2015.0     2692.0   9.331352  2.334084  1.0   8.0  10.0  11.0  13.0\n",
       "2016.0     4232.0  10.786389  1.780093  0.0  10.0  11.0  12.0  14.0\n",
       "2017.0     1508.0  12.419098  1.167785  0.0  12.0  13.0  13.0  14.0"
      ]
     },
     "execution_count": 50,
     "metadata": {},
     "output_type": "execute_result"
    }
   ],
   "source": [
    "df.rating_numerator.groupby(df.timestamp.dt.year).describe()"
   ]
  },
  {
   "cell_type": "markdown",
   "metadata": {},
   "source": [
    "An increasing trend is observable here as well, though certainly not as strong as that of the retweets and likes. And since a visualization about the data is also called for, let's take a look at the relationships between the retweet and like counts and the dog ratings by plotting boxplots of the first two variables grouped by the rating levels."
   ]
  },
  {
   "cell_type": "code",
   "execution_count": 51,
   "metadata": {},
   "outputs": [
    {
     "name": "stderr",
     "output_type": "stream",
     "text": [
      "/home/mailjo/anaconda3/lib/python3.6/site-packages/numpy/core/fromnumeric.py:57: FutureWarning: reshape is deprecated and will raise in a subsequent release. Please use .values.reshape(...) instead\n",
      "  return getattr(obj, method)(*args, **kwds)\n"
     ]
    },
    {
     "data": {
      "text/plain": [
       "<matplotlib.axes._subplots.AxesSubplot at 0x7f7233354cf8>"
      ]
     },
     "execution_count": 51,
     "metadata": {},
     "output_type": "execute_result"
    },
    {
     "data": {
      "image/png": "[encoded data removed]",
      "text/plain": [
       "<matplotlib.figure.Figure at 0x7f7235398390>"
      ]
     },
     "metadata": {},
     "output_type": "display_data"
    }
   ],
   "source": [
    "# outliers omitted from the boxplots for better readibility\n",
    "\n",
    "df.boxplot(by = 'rating_numerator', column = 'retweets', figsize = (12,6), showfliers = False)"
   ]
  },
  {
   "cell_type": "code",
   "execution_count": 52,
   "metadata": {},
   "outputs": [
    {
     "name": "stderr",
     "output_type": "stream",
     "text": [
      "/home/mailjo/anaconda3/lib/python3.6/site-packages/numpy/core/fromnumeric.py:57: FutureWarning: reshape is deprecated and will raise in a subsequent release. Please use .values.reshape(...) instead\n",
      "  return getattr(obj, method)(*args, **kwds)\n"
     ]
    },
    {
     "data": {
      "text/plain": [
       "<matplotlib.axes._subplots.AxesSubplot at 0x7f722bdcd9e8>"
      ]
     },
     "execution_count": 52,
     "metadata": {},
     "output_type": "execute_result"
    },
    {
     "data": {
      "image/png": "[encoded data removed]",
      "text/plain": [
       "<matplotlib.figure.Figure at 0x7f722bd5ca58>"
      ]
     },
     "metadata": {},
     "output_type": "display_data"
    }
   ],
   "source": [
    "df.boxplot(by = 'rating_numerator', column = 'likes', figsize = (12,6), showfliers = False)"
   ]
  }
 ],
 "metadata": {
  "kernelspec": {
   "display_name": "Python [default]",
   "language": "python",
   "name": "python3"
  },
  "language_info": {
   "codemirror_mode": {
    "name": "ipython",
    "version": 3
   },
   "file_extension": ".py",
   "mimetype": "text/x-python",
   "name": "python",
   "nbconvert_exporter": "python",
   "pygments_lexer": "ipython3",
   "version": "3.6.3"
  }
 },
 "nbformat": 4,
 "nbformat_minor": 2
}
